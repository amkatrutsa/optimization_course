{
 "cells": [
  {
   "cell_type": "markdown",
   "metadata": {
    "slideshow": {
     "slide_type": "slide"
    }
   },
   "source": [
    "# Метод условного градиента aka Франка-Вольфа"
   ]
  },
  {
   "cell_type": "markdown",
   "metadata": {
    "slideshow": {
     "slide_type": "slide"
    }
   },
   "source": [
    "## Что такое \"простое множество\"?\n",
    "\n",
    "- Множество, для которого легко вычислить проекцию\n",
    "- Альтернативный способ идентификации простого множества основан на следующем предположении"
   ]
  },
  {
   "cell_type": "markdown",
   "metadata": {
    "slideshow": {
     "slide_type": "fragment"
    }
   },
   "source": [
    "**Определение.** Множество $D$ будем называть *простым*, если можно найти решение следующей задачи\n",
    "\n",
    "$$\n",
    "\\min_{x \\in D} c^{\\top}x\n",
    "$$\n",
    "\n",
    "существенно быстрее (чаще всего аналитически) по сравнению с решением исходной задачи минимизации."
   ]
  },
  {
   "cell_type": "markdown",
   "metadata": {
    "slideshow": {
     "slide_type": "slide"
    }
   },
   "source": [
    "## Примеры простых множеств\n",
    "\n",
    "- Полиэдральное множество - задача линейного программирования вместо квадратичного программирования\n",
    "- Симплекс - $x^* = e_i$, где $c_i = \\max\\limits_{k = 1,\\ldots, n} c_k$\n",
    "- Лоренцев конус - $x^* = -\\frac{ct}{\\| c\\|_2}$\n",
    "- Все остальные множества из предыдущего определения\n",
    "\n",
    "**Замечание 1:** отличие этого определения от предыдущего в линейности целевой функции (была квадратичная), поэтому простых множеств для этого определения больше.\n",
    "\n",
    "**Замечание 2:** иногда на допустимое множество легко найти проекцию, но задача линейного программирования является неограниченной. Например, для множества \n",
    "\n",
    "$$\n",
    "D = \\{ x \\in \\mathbb{R}^n \\; | \\; x_i \\geq 0 \\},\n",
    "$$ \n",
    "\n",
    "проекция на которое очевидна, решение задачи линейного программирования равно $-\\infty$, если есть хотя бы одна отрицательная компонента вектора $c$. Теорема с объяснением будет ниже."
   ]
  },
  {
   "cell_type": "markdown",
   "metadata": {
    "slideshow": {
     "slide_type": "slide"
    }
   },
   "source": [
    "## Метод условного градиента <br> (aka Frank-Wolfe algorithm (1956))"
   ]
  },
  {
   "cell_type": "markdown",
   "metadata": {
    "slideshow": {
     "slide_type": "fragment"
    }
   },
   "source": [
    "\n",
    "$$\n",
    "\\min_{x \\in D} f(x)\n",
    "$$\n",
    "\n",
    "**Идея**: делать шаг не по градиенту, а по направлению, которое точно не выведет из допустимого множества.\n",
    "\n",
    "Аналогия с градиентным спуском: линейная аппроксимация **на допустимом множестве**:\n",
    "\n",
    "$$\n",
    "f(x_k + s_k) = f(x_k) + \\langle f'(x_k), s_k \\rangle \\to \\min_{{\\color{red}{s_k \\in D}}}\n",
    "$$"
   ]
  },
  {
   "cell_type": "markdown",
   "metadata": {
    "slideshow": {
     "slide_type": "slide"
    }
   },
   "source": [
    "## Условный градиент\n",
    "\n",
    "**Определение** Направление $s_k - x_k$ называют *условным градиентом* функции $f$ в точке $x_k$ на допустимом множестве $D$."
   ]
  },
  {
   "cell_type": "markdown",
   "metadata": {
    "slideshow": {
     "slide_type": "slide"
    }
   },
   "source": [
    "## Псевдокод\n",
    "```python\n",
    "def FrankWolfe(f, gradf, linprogsolver, x0, tol):\n",
    "    \n",
    "    x = x0\n",
    "    \n",
    "    while True:\n",
    "        \n",
    "        gradient = gradf(x)\n",
    "        \n",
    "        s = linprogsolver(gradient)\n",
    "        \n",
    "        alpha = get_step_size(s, x, f)\n",
    "        \n",
    "        x = x + alpha * (s - x)\n",
    "        \n",
    "        if check_convergence(x, f, tol):\n",
    "            \n",
    "            break\n",
    "            \n",
    "    return x\n",
    "```"
   ]
  },
  {
   "cell_type": "markdown",
   "metadata": {
    "slideshow": {
     "slide_type": "slide"
    }
   },
   "source": [
    "## Выбор шага\n",
    "\n",
    "- Постоянный шаг: $\\alpha_k = \\alpha$\n",
    "- Убывающая последовательность, стандартный выбор $\\alpha_k = \\frac{2}{k + 2}$\n",
    "- Наискорейший спуск:\n",
    "$$\n",
    "\\min_{{\\color{red}{0 \\leq \\alpha_k \\leq 1}}} f(x_k + \\alpha_k(s_k - x_k))\n",
    "$$\n",
    "- Линейный поиск по правилу Армихо: должно выполняться условие\n",
    "\n",
    "$$\n",
    "f((x_k + \\alpha_k(s_k - x_k)) \\leq f(x_k) + c_1 \\alpha_k \\langle f'(x_k), s_k - x_k \\rangle\n",
    "$$\n",
    "\n",
    "Начинать поиск нужно с $\\alpha_k = 1$"
   ]
  },
  {
   "cell_type": "markdown",
   "metadata": {
    "slideshow": {
     "slide_type": "slide"
    }
   },
   "source": [
    "## Критерий остановки\n",
    "\n",
    "- Так как показана сходимость к предельной точке $x^*$, то критерием остановки является сходимость по аргументу\n",
    "- Если $f(x)$ выпукла, то $f(s) \\geq f(x_k) + \\langle f'(x_k), s - x_k \\rangle$ для любого вектора $s$, а значит и для любого $s \\in D$. Следовательно\n",
    "\n",
    "$$\n",
    "f(x^*) \\geq f(x_k) + \\min_{s \\in D} \\langle f'(x_k), s - x_k\\rangle\n",
    "$$\n",
    "\n",
    "или\n",
    " \n",
    "$$\n",
    "f(x_k) - f(x^*) \\leq -\\min_{s \\in D} \\langle f'(x_k), s - x_k\\rangle = \\max_{s \\in D} \\langle f'(x_k), x_k - s\\rangle =\\max_{s \\in D} -\\langle f'(x_k), s \\rangle = - \\min_{s \\in D} \\langle f'(x_k), s \\rangle =  g(x_k)\n",
    "$$\n",
    "\n",
    "Получили аналог зазора двойственности для контроля точности и устойчивости решения."
   ]
  },
  {
   "cell_type": "markdown",
   "metadata": {
    "slideshow": {
     "slide_type": "slide"
    }
   },
   "source": [
    "## Аффинная инвариантность\n",
    "\n",
    "- Метод условного градиента является аффинно инвариантным относительно сюръективных отображений\n",
    "- Скорость сходимости и вид итерации не меняется"
   ]
  },
  {
   "cell_type": "markdown",
   "metadata": {
    "slideshow": {
     "slide_type": "slide"
    }
   },
   "source": [
    "## Теорема сходимости (лекции)\n",
    "\n",
    "**Теорема 4.2.1.** Пусть $X$ - **выпуклый компакт** и $f(x)$ - дифференцируемая функция на $X$ с Липшицевым градиентом. Шаг выбирается по правилу Армихо. Тогда **для любого ${\\color{red}{x_0 \\in X}}$**\n",
    "- метод условного градиента генерирует последовательность $\\{x_k\\}$, которая имеет предельные точки\n",
    "- любая предельная точка $x^*$ является **стационарной**\n",
    "- если $f(x)$ выпукла на $X$, то $x^*$ - решение задачи"
   ]
  },
  {
   "cell_type": "markdown",
   "metadata": {
    "slideshow": {
     "slide_type": "slide"
    }
   },
   "source": [
    "## Теоремы сходимости\n",
    "\n",
    "**Теорема (прямая).([Convex Optimization: Algorithms and Complexity, Th 3.8.](https://arxiv.org/abs/1405.4980))** Пусть $f$ выпуклая и дифференцируемая функция и её градиент Липшицев с константой $L$. Множество $X$ - выпуклый компакт диаметра $d > 0$. \n",
    "Тогда метод условного градиента с шагом $\\alpha_k = \\frac{2}{k + 1}$ сходится как\n",
    "\n",
    "$$\n",
    "f(x^*) - f(x_k) \\leq \\dfrac{2d^2L}{k + 2}, \\quad k \\geq 1\n",
    "$$\n",
    "\n",
    "**Теорема (двойственная) [см. эту статью](http://m8j.net/math/revisited-FW.pdf).** После выполнения $K$ итераций метода условного градиента для выпуклой и непрерывно дифференцируемой функции для функции $g$ и любого $k \\leq K$ выполнено\n",
    "\n",
    "$$\n",
    "g(x_k) \\leq \\frac{2\\beta C_f}{K+2} (1 + \\delta),\n",
    "$$\n",
    "\n",
    "где $\\beta \\approx 3$, $\\delta$ - точность решения промежуточных задач, $C_f$ - оценка кривизны $f$ на множестве $D$\n",
    "\n",
    "$$\n",
    "C_f = \\sup_{x, s \\in D; \\gamma \\in [0,1]} \\frac{2}{\\gamma^2}\\left(f(x + \\gamma(s - x)) - f(x) - \\langle \\gamma(s - x), f'(x)\\rangle\\right)\n",
    "$$\n",
    "\n",
    "Аргумент супремума так же известен как *дивергенция Брегмана*."
   ]
  },
  {
   "cell_type": "markdown",
   "metadata": {
    "slideshow": {
     "slide_type": "slide"
    }
   },
   "source": [
    "## Как конструктивно задать \"простые\" множества?"
   ]
  },
  {
   "cell_type": "markdown",
   "metadata": {
    "slideshow": {
     "slide_type": "fragment"
    }
   },
   "source": [
    "**Определение**. Atomic norm называется следующая функция \n",
    "\n",
    "$$\n",
    "\\|x\\|_{\\mathcal{D}} = \\inf_{t \\geq 0} \\{ t | x \\in t\\mathcal{D} \\}\n",
    "$$\n",
    "\n",
    "Она является нормой, если симметрична и $0 \\in \\mathrm{int}(\\mathcal{D})$"
   ]
  },
  {
   "cell_type": "markdown",
   "metadata": {
    "slideshow": {
     "slide_type": "slide"
    }
   },
   "source": [
    "### Сопряжённая atomic norm\n",
    "$$\n",
    "\\|y\\|^*_{\\mathcal{D}} = \\sup_{s \\in \\mathcal{D}} \\langle s, y \\rangle\n",
    "$$\n",
    "\n",
    "- Из определения выпуклой оболочки следует, что линейная функция достигает максимума в одной из \"вершин\" выпуклого множества\n",
    "- Следовательно, $\\| y \\|^*_{\\mathcal{D}} = \\| y \\|^*_{\\mathrm{conv}(\\mathcal{D})}$\n",
    "- Это позволяет эффективно вычислять решение промежуточных задач для определения $s$"
   ]
  },
  {
   "cell_type": "markdown",
   "metadata": {
    "slideshow": {
     "slide_type": "slide"
    }
   },
   "source": [
    "<img src=\"atomic_table.png\">\n",
    "\n",
    "Таблица взята из [статьи](http://m8j.net/math/revisited-FW.pdf)"
   ]
  },
  {
   "cell_type": "markdown",
   "metadata": {
    "slideshow": {
     "slide_type": "slide"
    }
   },
   "source": [
    "## Разреженность vs. точность\n",
    "\n",
    "- Метод условного градиента на каждой итерации добавляет к решению слагаемое, являющееся элементом множества $\\mathcal{A}$\n",
    "- Решение может быть представлено в виде комбинации элементов $\\mathcal{A}$\n",
    "- Теорема Каратеодори\n",
    "- Число элементов может быть существенно маньше требуемого теоремой Каратеодори"
   ]
  },
  {
   "cell_type": "markdown",
   "metadata": {
    "slideshow": {
     "slide_type": "slide"
    }
   },
   "source": [
    "## Эксперименты"
   ]
  },
  {
   "cell_type": "markdown",
   "metadata": {
    "slideshow": {
     "slide_type": "slide"
    }
   },
   "source": [
    "## Пример\n",
    "\n",
    "\\begin{equation*}\n",
    "\\begin{split}\n",
    "& \\min \\frac{1}{2}\\|Ax - b \\|^2_2\\\\\n",
    "\\text{s.t. } & 0 \\leq x_i \\leq 1\n",
    "\\end{split}\n",
    "\\end{equation*}"
   ]
  },
  {
   "cell_type": "code",
   "execution_count": 1,
   "metadata": {
    "slideshow": {
     "slide_type": "slide"
    }
   },
   "outputs": [],
   "source": [
    "import liboptpy.constr_solvers as cs\n",
    "import liboptpy.step_size as ss\n",
    "import numpy as np\n",
    "from tqdm import tqdm\n",
    "\n",
    "n = 200\n",
    "m = 100\n",
    "A = np.random.randn(m, n)\n",
    "x_true = np.random.rand(n)\n",
    "b = A.dot(x_true) + 0.01 * np.random.randn(m)\n",
    "eigvals = np.linalg.eigvalsh(A.T @ A)\n",
    "L = np.max(eigvals)"
   ]
  },
  {
   "cell_type": "code",
   "execution_count": 2,
   "metadata": {
    "slideshow": {
     "slide_type": "slide"
    }
   },
   "outputs": [],
   "source": [
    "import jax\n",
    "import jax.numpy as jnp\n",
    "import numpy as np\n",
    "from jax.config import config\n",
    "config.update(\"jax_enable_x64\", True)\n",
    "\n",
    "@jax.jit\n",
    "def func(x, A, b):\n",
    "    return 0.5 * jnp.linalg.norm(A.dot(x) - b)**2\n",
    "\n",
    "f = lambda x: func(x, A, b)\n",
    "\n",
    "\n",
    "\n",
    "grad = jax.jit(jax.grad(f))"
   ]
  },
  {
   "cell_type": "code",
   "execution_count": 3,
   "metadata": {
    "slideshow": {
     "slide_type": "slide"
    }
   },
   "outputs": [],
   "source": [
    "def linsolver(gradient):\n",
    "    x = np.zeros(gradient.shape[0])\n",
    "    pos_grad = gradient > 0\n",
    "    neg_grad = gradient < 0\n",
    "    x[pos_grad] = np.zeros(np.sum(pos_grad == True))\n",
    "    x[neg_grad] = np.ones(np.sum(neg_grad == True))\n",
    "    return x"
   ]
  },
  {
   "cell_type": "code",
   "execution_count": 4,
   "metadata": {
    "slideshow": {
     "slide_type": "slide"
    }
   },
   "outputs": [],
   "source": [
    "def projection(y):\n",
    "    return np.clip(y, 0, 1)"
   ]
  },
  {
   "cell_type": "code",
   "execution_count": 5,
   "metadata": {
    "slideshow": {
     "slide_type": "slide"
    }
   },
   "outputs": [],
   "source": [
    "def myplot(x, y, xlab, ylab, xscale=\"linear\", yscale=\"log\"):\n",
    "    plt.figure(figsize=(10, 8))\n",
    "    plt.xscale(xscale)\n",
    "    plt.yscale(yscale)\n",
    "    for key in y:\n",
    "        plt.plot(x[key], y[key], label=key)\n",
    "    plt.xticks(fontsize=24)\n",
    "    plt.yticks(fontsize=24)\n",
    "    plt.legend(loc=\"best\", fontsize=24)\n",
    "    plt.xlabel(xlab, fontsize=24)\n",
    "    plt.ylabel(ylab, fontsize=24)"
   ]
  },
  {
   "cell_type": "code",
   "execution_count": 6,
   "metadata": {
    "slideshow": {
     "slide_type": "slide"
    }
   },
   "outputs": [
    {
     "name": "stderr",
     "output_type": "stream",
     "text": [
      "WARNING:absl:No GPU/TPU found, falling back to CPU. (Set TF_CPP_MIN_LOG_LEVEL=0 and rerun for more info.)\n"
     ]
    },
    {
     "name": "stdout",
     "output_type": "stream",
     "text": [
      "Required tolerance achieved!\n",
      "Convergence in 136 iterations\n",
      "Function value = 0.00013958047584760558\n",
      "Difference in function values = 7.926638075741717e-06\n",
      "Difference in argument = 0.0007000957750763322\n",
      "Optimal value FW = 0.00013958047584760558\n"
     ]
    }
   ],
   "source": [
    "x0 = np.random.rand(n)\n",
    "    \n",
    "# fw = cs.FrankWolfe(f, grad, linsolver, ss.ConstantStepSize(1e-3))\n",
    "fw = cs.FrankWolfe(f, grad, linsolver, ss.Backtracking(\"Armijo\", init_alpha=1, rho=0.5, beta=0.1))\n",
    "x_fw = fw.solve(x0=x0, max_iter=20000, tol=1e-5, disp=1)\n",
    "print(\"Optimal value FW =\", f(x_fw))"
   ]
  },
  {
   "cell_type": "code",
   "execution_count": 7,
   "metadata": {
    "scrolled": true,
    "slideshow": {
     "slide_type": "slide"
    }
   },
   "outputs": [
    {
     "name": "stdout",
     "output_type": "stream",
     "text": [
      "Required tolerance achieved!\n",
      "Convergence in 38 iterations\n",
      "Function value = 0.00016537511853079468\n",
      "Difference in function values = 8.919969390365154e-06\n",
      "Difference in argument = 0.0008999706483878026\n",
      "Optimal value PG = 0.00016537511853079468\n"
     ]
    }
   ],
   "source": [
    "pg = cs.ProjectedGD(f, lambda x: grad(x), projection, ss.Backtracking(\"Armijo\", init_alpha=1, beta=0.01, rho=0.5))\n",
    "x_pg = pg.solve(x0=x0, max_iter=200, tol=1e-5, disp=1)\n",
    "print(\"Optimal value PG =\", f(x_pg))"
   ]
  },
  {
   "cell_type": "code",
   "execution_count": 8,
   "metadata": {
    "slideshow": {
     "slide_type": "slide"
    }
   },
   "outputs": [
    {
     "data": {
      "image/png": "[encoded data removed]",
      "text/plain": [
       "<Figure size 720x576 with 1 Axes>"
      ]
     },
     "metadata": {
      "needs_background": "light"
     },
     "output_type": "display_data"
    }
   ],
   "source": [
    "import matplotlib.pyplot as plt\n",
    "%matplotlib inline\n",
    "plt.rc(\"text\", usetex=True)\n",
    "y_hist_f_fw = [f(x) for x in fw.get_convergence()]\n",
    "y_hist_f_pg = [f(x) for x in pg.get_convergence()]\n",
    "myplot({\"FW\": range(1, len(y_hist_f_fw) + 1), \"PG\": range(1, len(y_hist_f_pg) + 1)},\n",
    "       {\"FW\": y_hist_f_fw, \"PG\": y_hist_f_pg}, \"Number of iteration\",\n",
    "       r\"Objective function, $\\frac{1}{2}\\|Ax - b\\|^2_2$\")"
   ]
  },
  {
   "cell_type": "code",
   "execution_count": 9,
   "metadata": {
    "slideshow": {
     "slide_type": "slide"
    }
   },
   "outputs": [
    {
     "name": "stdout",
     "output_type": "stream",
     "text": [
      "CVX optimal value = -1.0918355199889685e-05\n"
     ]
    }
   ],
   "source": [
    "import cvxpy as cvx\n",
    "\n",
    "x = cvx.Variable(n)\n",
    "obj = cvx.Minimize(0.5 * cvx.norm(A * x - b, 2)**2)\n",
    "constr = [x >= 0, x <= 1]\n",
    "problem = cvx.Problem(objective=obj, constraints=constr)\n",
    "value = problem.solve(solver=cvx.SCS)\n",
    "x_cvx = np.array(x.value).ravel()\n",
    "print(\"CVX optimal value =\", value)"
   ]
  },
  {
   "cell_type": "markdown",
   "metadata": {
    "slideshow": {
     "slide_type": "slide"
    }
   },
   "source": [
    "### Зависимость времени и числа итераций от точности"
   ]
  },
  {
   "cell_type": "code",
   "execution_count": 15,
   "metadata": {
    "slideshow": {
     "slide_type": "slide"
    }
   },
   "outputs": [
    {
     "name": "stderr",
     "output_type": "stream",
     "text": [
      "8it [02:10, 16.36s/it]\n"
     ]
    }
   ],
   "source": [
    "eps = [10**(-i) for i in range(8)]\n",
    "time_pg = np.zeros(len(eps))\n",
    "time_cg = np.zeros(len(eps))\n",
    "iter_pg = np.zeros(len(eps))\n",
    "iter_cg = np.zeros(len(eps))\n",
    "pg = cs.ProjectedGD(f, grad, projection, ss.ConstantStepSize(1 / L))\n",
    "cg = cs.FrankWolfe(f, grad, linsolver, ss.ConstantStepSize(1 / L))\n",
    "for i, tol in tqdm(enumerate(eps)):\n",
    "    res = %timeit -o -q pg.solve(x0=x0, tol=tol, max_iter=100000)\n",
    "    time_pg[i] = res.average\n",
    "    iter_pg[i] = len(pg.get_convergence())\n",
    "    res = %timeit -o -q cg.solve(x0=x0, tol=tol, max_iter=100000)\n",
    "    time_cg[i] = res.average\n",
    "    iter_cg[i] = len(cg.get_convergence())"
   ]
  },
  {
   "cell_type": "code",
   "execution_count": 16,
   "metadata": {
    "slideshow": {
     "slide_type": "slide"
    }
   },
   "outputs": [
    {
     "data": {
      "image/png": "[encoded data removed]",
      "text/plain": [
       "<Figure size 720x576 with 1 Axes>"
      ]
     },
     "metadata": {},
     "output_type": "display_data"
    }
   ],
   "source": [
    "myplot({\"FW\":eps, \"PG\": eps}, {\"FW\": time_cg, \"PG\": time_pg}, r\"Accuracy, $\\varepsilon$\", \"Time, s\", xscale=\"log\")"
   ]
  },
  {
   "cell_type": "code",
   "execution_count": 17,
   "metadata": {
    "slideshow": {
     "slide_type": "slide"
    }
   },
   "outputs": [
    {
     "data": {
      "image/png": "[encoded data removed]",
      "text/plain": [
       "<Figure size 720x576 with 1 Axes>"
      ]
     },
     "metadata": {},
     "output_type": "display_data"
    }
   ],
   "source": [
    "myplot({\"FW\":eps, \"PG\": eps}, {\"FW\": iter_cg, \"PG\": iter_pg}, r\"Accuracy, $\\varepsilon$\", \"Number of iterations\", xscale=\"log\")"
   ]
  },
  {
   "cell_type": "markdown",
   "metadata": {
    "slideshow": {
     "slide_type": "slide"
    }
   },
   "source": [
    "## Пример 2\n",
    " Рассмотрим задачу: \n",
    " \n",
    "\\begin{align*}\n",
    "& \\min \\frac{1}{2}\\|Ax - b \\|^2_2 \\\\\n",
    "\\text{s.t. } & \\| x\\|_1 \\leq 1 \\\\\n",
    "& x_i \\geq 0\n",
    "\\end{align*}"
   ]
  },
  {
   "cell_type": "code",
   "execution_count": 12,
   "metadata": {
    "slideshow": {
     "slide_type": "slide"
    }
   },
   "outputs": [],
   "source": [
    "def linsolver(gradient):\n",
    "    x = np.zeros(gradient.shape[0])\n",
    "    idx_min = np.argmin(gradient)\n",
    "    if gradient[idx_min] > 0:\n",
    "        x[idx_min] = 0\n",
    "    else:\n",
    "        x[idx_min] = 1\n",
    "    return x"
   ]
  },
  {
   "cell_type": "code",
   "execution_count": 13,
   "metadata": {
    "slideshow": {
     "slide_type": "slide"
    }
   },
   "outputs": [],
   "source": [
    "def projection(y):\n",
    "    x = y.copy()\n",
    "    if np.all(x >= 0) and np.sum(x) <= 1:\n",
    "        return x\n",
    "    x = np.clip(x, 0, np.max(x))\n",
    "    if np.sum(x) <= 1:\n",
    "        return x\n",
    "    n = x.shape[0]\n",
    "    bget = False\n",
    "    x.sort()\n",
    "    x = x[::-1]\n",
    "    temp_sum = 0\n",
    "    t_hat = 0\n",
    "    for i in range(n - 1):\n",
    "        temp_sum += x[i]\n",
    "        t_hat = (temp_sum - 1.0) / (i + 1)\n",
    "        if t_hat >= x[i + 1]:\n",
    "            bget = True\n",
    "            break\n",
    "    if not bget:\n",
    "        t_hat = (temp_sum + x[n - 1] - 1.0) / n\n",
    "    return np.maximum(y - t_hat, 0)"
   ]
  },
  {
   "cell_type": "code",
   "execution_count": 14,
   "metadata": {
    "slideshow": {
     "slide_type": "slide"
    }
   },
   "outputs": [
    {
     "name": "stdout",
     "output_type": "stream",
     "text": [
      "Optimal value FW = 3492.7575331665103\n"
     ]
    }
   ],
   "source": [
    "x0 = np.random.rand(n) * 10\n",
    "x0 = x0 / x0.sum()\n",
    "cg = cs.FrankWolfe(f, grad, linsolver, ss.Backtracking(rule_type=\"Armijo\", rho=0.5, beta=0.1, init_alpha=1.))\n",
    "x_cg = cg.solve(x0=x0, max_iter=200, tol=1e-3)\n",
    "print(\"Optimal value FW =\", f(x_cg))"
   ]
  },
  {
   "cell_type": "code",
   "execution_count": 21,
   "metadata": {
    "slideshow": {
     "slide_type": "slide"
    }
   },
   "outputs": [
    {
     "name": "stdout",
     "output_type": "stream",
     "text": [
      "Optimal value PG = 3492.7536585492517\n",
      "1.0000000000000018 1.0\n"
     ]
    }
   ],
   "source": [
    "pg = cs.ProjectedGD(f, grad, projection, ss.Backtracking(rule_type=\"Armijo\", rho=0.5, beta=0.1, init_alpha=1.))\n",
    "x_pg = pg.solve(x0=x0, max_iter=200, tol=1e-3)\n",
    "print(\"Optimal value PG =\", f(x_pg))\n",
    "print(x_pg.sum(), x_cg.sum())"
   ]
  },
  {
   "cell_type": "code",
   "execution_count": 16,
   "metadata": {
    "slideshow": {
     "slide_type": "slide"
    }
   },
   "outputs": [
    {
     "data": {
      "image/png": "[encoded data removed]",
      "text/plain": [
       "<Figure size 720x576 with 1 Axes>"
      ]
     },
     "metadata": {},
     "output_type": "display_data"
    }
   ],
   "source": [
    "y_hist_f_cg = [f(x) for x in cg.get_convergence()]\n",
    "y_hist_f_pg = [f(x) for x in pg.get_convergence()]\n",
    "myplot({\"FW\": range(1, len(y_hist_f_cg) + 1), \"PG\": range(1, len(y_hist_f_pg) + 1)},\n",
    "       {\"FW\": y_hist_f_cg, \"PG\": y_hist_f_pg}, \"Number of iteration\",\n",
    "       r\"Objective function, $\\frac{1}{2}\\|Ax - b\\|^2_2$\")"
   ]
  },
  {
   "cell_type": "markdown",
   "metadata": {
    "slideshow": {
     "slide_type": "slide"
    }
   },
   "source": [
    "### Зависимость времени и числа итераций от точности"
   ]
  },
  {
   "cell_type": "code",
   "execution_count": 24,
   "metadata": {
    "slideshow": {
     "slide_type": "slide"
    }
   },
   "outputs": [
    {
     "name": "stderr",
     "output_type": "stream",
     "text": [
      "8it [02:07, 15.99s/it]\n"
     ]
    }
   ],
   "source": [
    "eps = [10**(-i) for i in range(8)]\n",
    "time_pg = np.zeros(len(eps))\n",
    "time_cg = np.zeros(len(eps))\n",
    "iter_pg = np.zeros(len(eps))\n",
    "iter_cg = np.zeros(len(eps))\n",
    "pg = cs.ProjectedGD(f, grad, projection, ss.Backtracking(rule_type=\"Armijo\", rho=0.5, beta=0.1, init_alpha=1.))\n",
    "cg = cs.FrankWolfe(f, grad, linsolver, ss.Backtracking(rule_type=\"Armijo\", rho=0.5, beta=0.1, init_alpha=1.))\n",
    "for i, tol in tqdm(enumerate(eps)):\n",
    "    res = %timeit -o -q pg.solve(x0=x0, tol=tol, max_iter=100000)\n",
    "    time_pg[i] = res.average\n",
    "    iter_pg[i] = len(pg.get_convergence())\n",
    "    res = %timeit -o -q cg.solve(x0=x0, tol=tol, max_iter=100000)\n",
    "    time_cg[i] = res.average\n",
    "    iter_cg[i] = len(cg.get_convergence())"
   ]
  },
  {
   "cell_type": "code",
   "execution_count": 25,
   "metadata": {
    "slideshow": {
     "slide_type": "slide"
    }
   },
   "outputs": [
    {
     "data": {
      "image/png": "[encoded data removed]",
      "text/plain": [
       "<Figure size 720x576 with 1 Axes>"
      ]
     },
     "metadata": {},
     "output_type": "display_data"
    }
   ],
   "source": [
    "myplot({\"FW\":eps, \"PG\": eps}, {\"FW\": time_cg, \"PG\": time_pg}, \n",
    "       r\"Accuracy, $\\varepsilon$\", \"Time, s\", xscale=\"log\")"
   ]
  },
  {
   "cell_type": "code",
   "execution_count": 26,
   "metadata": {
    "slideshow": {
     "slide_type": "slide"
    }
   },
   "outputs": [
    {
     "data": {
      "image/png": "[encoded data removed]",
      "text/plain": [
       "<Figure size 720x576 with 1 Axes>"
      ]
     },
     "metadata": {},
     "output_type": "display_data"
    }
   ],
   "source": [
    "myplot({\"FW\": eps, \"PG\": eps}, {\"FW\": iter_cg, \"PG\": iter_pg}, \n",
    "       r\"Accuracy, $\\varepsilon$\", \"Number of iterations\", xscale=\"log\")"
   ]
  },
  {
   "cell_type": "code",
   "execution_count": 29,
   "metadata": {
    "slideshow": {
     "slide_type": "slide"
    }
   },
   "outputs": [
    {
     "name": "stdout",
     "output_type": "stream",
     "text": [
      "----------------------------------------------------------------------------\n",
      "\tSCS v1.2.6 - Splitting Conic Solver\n",
      "\t(c) Brendan O'Donoghue, Stanford University, 2012-2016\n",
      "----------------------------------------------------------------------------\n",
      "Lin-sys: sparse-indirect, nnz in A = 21204, CG tol ~ 1/iter^(2.00)\n",
      "eps = 1.00e-04, alpha = 1.50, max_iters = 2500, normalize = 1, scale = 1.00\n",
      "Variables n = 402, constraints m = 705\n",
      "Cones:\tlinear vars: 601\n",
      "\tsoc vars: 104, soc blks: 2\n",
      "Setup time: 1.29e-03s\n",
      "----------------------------------------------------------------------------\n",
      " Iter | pri res | dua res | rel gap | pri obj | dua obj | kap/tau | time (s)\n",
      "----------------------------------------------------------------------------\n",
      "     0|      inf       inf       nan      -inf       inf       inf  2.25e-03 \n",
      "   100| 1.17e+00  2.50e-01  5.96e-04  6.96e+02  6.97e+02  2.66e-16  4.04e-02 \n",
      "   200| 5.43e-01  6.02e-02  1.14e-04  1.12e+03  1.12e+03  1.75e-16  1.02e-01 \n",
      "   300| 5.11e-01  3.87e-02  4.50e-05  1.36e+03  1.36e+03  2.04e-16  1.50e-01 \n",
      "   400| 4.79e-01  2.19e-02  2.24e-05  1.56e+03  1.56e+03  2.29e-16  2.00e-01 \n",
      "   500| 4.51e-01  1.18e-02  7.59e-06  1.73e+03  1.73e+03  2.52e-16  2.48e-01 \n",
      "   600| 4.23e-01  7.51e-03  1.58e-06  1.88e+03  1.88e+03  2.73e-16  2.99e-01 \n",
      "   700| 3.74e-01  2.67e-02  1.48e-05  1.95e+03  1.95e+03  2.86e-16  3.48e-01 \n",
      "   800| 3.37e-01  3.06e-02  2.38e-05  2.02e+03  2.02e+03  2.99e-16  3.99e-01 \n",
      "   900| 2.98e-01  4.17e-02  3.26e-05  2.07e+03  2.07e+03  3.12e-16  4.49e-01 \n",
      "  1000| 2.79e-01  4.03e-02  3.02e-05  2.15e+03  2.15e+03  3.31e-16  5.02e-01 \n",
      "  1100| 2.61e-01  4.14e-02  3.00e-05  2.23e+03  2.23e+03  3.49e-16  5.50e-01 \n",
      "  1200| 2.45e-01  4.18e-02  2.94e-05  2.30e+03  2.30e+03  3.66e-16  5.92e-01 \n",
      "  1300| 2.31e-01  4.19e-02  2.88e-05  2.36e+03  2.36e+03  3.83e-16  6.33e-01 \n",
      "  1400| 2.17e-01  4.18e-02  2.80e-05  2.42e+03  2.42e+03  4.00e-16  6.74e-01 \n",
      "  1500| 2.04e-01  4.15e-02  2.72e-05  2.48e+03  2.48e+03  4.16e-16  7.16e-01 \n",
      "  1600| 1.93e-01  4.11e-02  2.64e-05  2.53e+03  2.53e+03  4.31e-16  7.56e-01 \n",
      "  1700| 1.82e-01  4.05e-02  2.56e-05  2.58e+03  2.58e+03  2.23e-16  7.99e-01 \n",
      "  1800| 1.72e-01  3.99e-02  2.48e-05  2.62e+03  2.62e+03  2.30e-16  8.40e-01 \n",
      "  1900| 1.63e-01  3.92e-02  2.41e-05  2.66e+03  2.66e+03  2.37e-16  8.81e-01 \n",
      "  2000| 1.55e-01  3.85e-02  2.33e-05  2.70e+03  2.70e+03  2.44e-16  9.22e-01 \n",
      "  2100| 1.46e-01  3.77e-02  2.25e-05  2.73e+03  2.73e+03  2.51e-16  9.63e-01 \n",
      "  2200| 1.38e-01  3.69e-02  2.18e-05  2.77e+03  2.77e+03  2.57e-16  1.01e+00 \n",
      "  2300| 1.32e-01  3.61e-02  2.11e-05  2.80e+03  2.80e+03  2.64e-16  1.05e+00 \n",
      "  2400| 1.26e-01  3.52e-02  2.04e-05  2.83e+03  2.83e+03  2.70e-16  1.08e+00 \n",
      "  2500| 1.20e-01  3.44e-02  1.97e-05  2.86e+03  2.85e+03  2.76e-16  1.12e+00 \n",
      "----------------------------------------------------------------------------\n",
      "Status: Solved/Inaccurate\n",
      "Hit max_iters, solution may be inaccurate\n",
      "Timing: Solve time: 1.12e+00s\n",
      "\tLin-sys: avg # CG iterations: 6.67, avg solve time: 4.35e-04s\n",
      "\tCones: avg projection time: 6.11e-07s\n",
      "----------------------------------------------------------------------------\n",
      "Error metrics:\n",
      "dist(s, K) = 2.8512e-11, dist(y, K*) = 7.1054e-15, s'y/|s||y| = -7.6061e-17\n",
      "|Ax + s - b|_2 / (1 + |b|_2) = 1.1999e-01\n",
      "|A'y + c|_2 / (1 + |c|_2) = 3.4397e-02\n",
      "|c'x + b'y| / (1 + |c'x| + |b'y|) = 1.9700e-05\n",
      "----------------------------------------------------------------------------\n",
      "c'x = 2855.0371, -b'y = 2854.9246\n",
      "============================================================================\n",
      "CVX optimal value = 2855.037072855553\n"
     ]
    }
   ],
   "source": [
    "x = cvx.Variable(n)\n",
    "obj = cvx.Minimize(0.5 * cvx.norm2(A * x - b)**2)\n",
    "constr = [cvx.norm(x, 1) <= 1, x >= 0]\n",
    "problem = cvx.Problem(objective=obj, constraints=constr)\n",
    "value = problem.solve(solver=cvx.SCS, verbose=True)\n",
    "x_cvx = np.array(x.value).ravel()\n",
    "print(\"CVX optimal value =\", value)"
   ]
  },
  {
   "cell_type": "markdown",
   "metadata": {
    "slideshow": {
     "slide_type": "slide"
    }
   },
   "source": [
    "## Pro & Contra\n",
    "\n",
    "Pro\n",
    "- Оценка сходимости для функционала **не зависит** от размерности\n",
    "- Если множество - многоугольник, то $x_k$ - выпуклая комбинация $k$ вершин многоугольника - разреженная решение для $k \\ll n$\n",
    "- Если множество выпуклая комбинация некоторых элементов, то решение - линейная комбинация подмножества этих элементов\n",
    "- Сходимость по функционалу не улучшаема даже для сильно выпуклых функций\n",
    "- Упрощение понятия \"простое множество\"\n",
    "- Существует подобие зазора двойственности и теоретические результаты о сходимости\n",
    "\n",
    "Contra\n",
    "- Сходимость по функционалу только сублинейная вида $\\frac{C}{k}$\n",
    "- Не обобщается на негладкие задачи"
   ]
  },
  {
   "cell_type": "markdown",
   "metadata": {
    "slideshow": {
     "slide_type": "slide"
    }
   },
   "source": [
    "## Резюме\n",
    "- Множество простой структуры\n",
    "- Проекция\n",
    "- Метод проекции градиента\n",
    "- Метод условного градиента"
   ]
  }
 ],
 "metadata": {
  "celltoolbar": "Slideshow",
  "kernelspec": {
   "display_name": "Python 3 (cvxpy)",
   "language": "python",
   "name": "cvxpy"
  },
  "language_info": {
   "codemirror_mode": {
    "name": "ipython",
    "version": 3
   },
   "file_extension": ".py",
   "mimetype": "text/x-python",
   "name": "python",
   "nbconvert_exporter": "python",
   "pygments_lexer": "ipython3",
   "version": "3.6.8"
  }
 },
 "nbformat": 4,
 "nbformat_minor": 2
}
