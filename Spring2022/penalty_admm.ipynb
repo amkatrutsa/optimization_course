{
 "cells": [
  {
   "cell_type": "markdown",
   "metadata": {
    "slideshow": {
     "slide_type": "slide"
    }
   },
   "source": [
    "# Метод штрафов, модифицированной функции Лагранжа и ADMM"
   ]
  },
  {
   "cell_type": "markdown",
   "metadata": {
    "slideshow": {
     "slide_type": "slide"
    }
   },
   "source": [
    "## На прошлом семинаре\n",
    "\n",
    "- Регуляризаторы, порождающие некоторую структуру решения задачи оптимизации\n",
    "- Метод условного градиента\n",
    "- Сходимость и отличие от метода проекции градиента"
   ]
  },
  {
   "cell_type": "markdown",
   "metadata": {
    "slideshow": {
     "slide_type": "slide"
    }
   },
   "source": [
    "## Метод внешних штрафов\n",
    "\n",
    "**Идея:** внешние штрафные функции, это слагаемые, добавляемые к целевой функции, такие что они увеличивают целевую функцию при выходе точки из множества, но позволяют этому случиться."
   ]
  },
  {
   "cell_type": "markdown",
   "metadata": {
    "collapsed": true,
    "slideshow": {
     "slide_type": "slide"
    }
   },
   "source": [
    "## Задача с ограничениями-равенствами\n",
    "\n",
    "\\begin{equation*}\n",
    "\\begin{split}\n",
    "& \\min f(x)\\\\\n",
    "\\text{s.t. } & g_i(x) = 0, \\; i=1,\\ldots,m\n",
    "\\end{split}\n",
    "\\end{equation*}"
   ]
  },
  {
   "cell_type": "markdown",
   "metadata": {
    "collapsed": true,
    "slideshow": {
     "slide_type": "slide"
    }
   },
   "source": [
    "### Квадратичная штрафная функция\n",
    "Исходную задачу можно преобразовать к задаче безусловной оптимизации\n",
    "\n",
    "$$\n",
    "\\min_x Q(x, \\mu),\n",
    "$$\n",
    "\n",
    "где \n",
    "\n",
    "$$\n",
    "Q(x, \\mu) = f(x) + \\frac{\\mu}{2}\\sum\\limits_{i=1}^mg^2_i(x), \\quad \\mu > 0\n",
    "$$\n",
    "- Если ограничение не выполняется, то значение целевой функции увеличивается пропорционально парамеру $\\mu$\n",
    "- При увеличении параметра $\\mu$, решение задачи всё точнее и точнее удовлетворяет ограничениям"
   ]
  },
  {
   "cell_type": "markdown",
   "metadata": {
    "slideshow": {
     "slide_type": "slide"
    }
   },
   "source": [
    "### Общая схема\n",
    "\n",
    "```python\n",
    "def QudraticPenaltyEquality(Q, gradQ, x0, get_mu, get_tau, **kwargs):\n",
    "    \n",
    "    while True:\n",
    "        \n",
    "        # Stop when norm of gradient of Q is less than current tau\n",
    "        \n",
    "        x = MinimizeQ(Q, gradQ, x0, get_tau)\n",
    "        \n",
    "        if global_convergence(x, Q, **kwargs):\n",
    "            \n",
    "            break\n",
    "            \n",
    "        mu = get_mu()\n",
    "        \n",
    "        Q, gradQ = UpdateQ(mu)\n",
    "        \n",
    "        x0 = UpdateStartPoint(x, Q)\n",
    "        \n",
    "    return x\n",
    "```\n",
    "\n",
    "- Параметр $\\mu$ нужно изменять в зависимости от сложности решения подзадачи: если известно, что задача решается долго, то $\\mu$ нужно увеличивать плавно, например $\\mu_{k+1} = 2\\mu_k$. Eсли подзадача решается быстро, то допустимо более резкое увеличение $\\mu$: $\\mu_{k+1} = 15\\mu_k$.\n",
    "- При увеличении $\\mu$ решение подзадачи становится сложнее из-за плохой обусловленности гессиана. Об этом подробнее ниже."
   ]
  },
  {
   "cell_type": "markdown",
   "metadata": {
    "collapsed": true,
    "slideshow": {
     "slide_type": "slide"
    }
   },
   "source": [
    "### Сходимость\n",
    "\n",
    "**Теорема 1.** Пусть для каждого $\\mu$ безусловная задача имеет конечное глобальное решение. Тогда предельная точка последовательности решений безусловных задач при $\\mu \\to \\infty$ является глобальным решением исходной задачи.\n",
    "\n",
    "- Проблема: глобальный оптимум для каждой подзадачи не всегда может быть достигнут!\n",
    "\n",
    "**Теорема 2.** Пусть $\\tau_k \\to 0$ и $\\mu_k \\to \\infty$ и $\\| Q'(x^*_k, \\mu_k) \\| \\leq \\tau_k$. Тогда \n",
    "- если $x^*_k \\to x^*$ и $x^*$ - недопустима, то $x^*$ стационарная точка функции $\\| g(x) \\|^2_2$;\n",
    "- если $x^*$ - допустима и градиенты ограничений в этой точке линейно независимы, тогда $x^*$ - точка, в которой выполнены KKT.\n",
    "\n",
    "Для любой подпоследовательности $x^*_k \\to x^*, \\; k \\in \\mathcal{C}$ выполнено\n",
    "\n",
    "$$\n",
    "\\lim_{k \\in \\mathcal{C}} \\mu_k g_i(x_k) = \\lambda_i^*\n",
    "$$\n",
    "\n",
    "для всех $i = 1,\\ldots,m$, где $\\lambda_i^*$ множители Лагранжа, удовлетворяющие ККТ."
   ]
  },
  {
   "cell_type": "markdown",
   "metadata": {
    "collapsed": true,
    "slideshow": {
     "slide_type": "slide"
    }
   },
   "source": [
    "### Вырожденность гессиана\n",
    "\n",
    "**Пример.**\n",
    "\\begin{equation*}\n",
    "\\begin{split}\n",
    "& \\min -5x_1^2 + x_2^2\\\\\n",
    "\\text{s.t. }& x_1 = 1\n",
    "\\end{split}\n",
    "\\end{equation*}\n",
    "Штрафная функция примет вид\n",
    "\n",
    "$$\n",
    "Q(x, \\mu) = -5x_1^2 + x_2^2 + \\frac{\\mu}{2}(x_1 - 1)^2\n",
    "$$\n",
    "\n",
    "**Наблюдение** При $\\mu < 10$ функция $Q(x, \\mu)$ неограничена снизу по $x$, и подзадача не имеет конечного решения"
   ]
  },
  {
   "cell_type": "markdown",
   "metadata": {
    "collapsed": true,
    "slideshow": {
     "slide_type": "slide"
    }
   },
   "source": [
    "### Общий вид гессиана\n",
    "\n",
    "$$\n",
    "Q''(x, \\mu) = f''(x) + \\mu\\sum_{i=1}^m g_i(x) g''_i(x) + \\mu(g'(x))^{\\top} g'(x),\n",
    "$$\n",
    "\n",
    "где $g'(x)$ - якобиан вектор-функции ограничений-равенств.\n",
    "\n",
    "Около точки минимума в силу теоремы 2 справедливо следующее приближение\n",
    "\n",
    "$$\n",
    "Q''(x, \\mu) \\approx L''(x, \\lambda^*) + \\mu(g'(x))^{\\top} g'(x)\n",
    "$$\n",
    "\n",
    "- гессиан лагранжиана не зависит от $\\mu$\n",
    "- произведение $(g'(x))^{\\top} g'(x)$ ранга $m \\ll n$\n",
    "\n",
    "**Итог:** некоторые собственные значения гессиана $Q''(x, \\mu)$ имеют порядок $\\mu$, а некоторые от $\\mu$ не зависят, что приводит к вырожденности при увеличении $\\mu$\n",
    "\n",
    "**Следствие:** поиск направления в методе Ньютона очень неточный"
   ]
  },
  {
   "cell_type": "markdown",
   "metadata": {
    "collapsed": true,
    "slideshow": {
     "slide_type": "slide"
    }
   },
   "source": [
    "### Как искать направление в методе Ньютона?\n",
    "\n",
    "$$\n",
    "Q''(x_k, \\mu)p = -Q'(x_k, \\mu)\n",
    "$$\n",
    "\n",
    "Введём новую переменную $\\xi = \\mu g'(x) p$ и запишем эту систему в виде\n",
    "$$\\begin{bmatrix} f''(x) + \\mu \\sum\\limits_{i=1}^m g_i(x)g_i''(x) & (g'(x))^{\\top}\\\\ (g'(x)) & -\\frac{1}{\\mu} I \\end{bmatrix} = \\begin{bmatrix} -Q'(x, \\mu) \\\\ 0 \\end{bmatrix}$$\n",
    "\n",
    "- Обусловленность этой системы уже не растёт с ростом $\\mu$\n",
    "- Размерность увеличилась на $m$\n",
    "- Проблема неадекватности квадратичной аппроксимации остаётся"
   ]
  },
  {
   "cell_type": "markdown",
   "metadata": {
    "collapsed": true,
    "slideshow": {
     "slide_type": "slide"
    }
   },
   "source": [
    "## Задача с ограничениями типа равенств и неравенств\n",
    "\n",
    "\\begin{equation*}\n",
    "\\begin{split}\n",
    "& \\min_x f(x)\\\\\n",
    "\\text{s.t. } & g_i(x) = 0, \\; i=1,\\ldots,m \\\\\n",
    "& h_j(x) \\leq 0, \\; j = 1,\\ldots,p\n",
    "\\end{split}\n",
    "\\end{equation*}"
   ]
  },
  {
   "cell_type": "markdown",
   "metadata": {
    "collapsed": true,
    "slideshow": {
     "slide_type": "slide"
    }
   },
   "source": [
    "### Штрафная функция\n",
    "\n",
    "$$\n",
    "\\min_x f(x) + \\frac{\\mu}{2}\\sum\\limits_{i=1}^mg^2_i(x) + \\frac{\\mu}{2}\\sum\\limits_{j=1}^p (\\max(0, h_j(x)))^2,\n",
    "$$\n",
    "где $\\mu > 0$\n",
    "- Отличие от задачи без ограничений-неравенств: вторая производная штрафной функции разрывна и, как следствие, штрафная функция уже не дважды непрерывно дифференцируема"
   ]
  },
  {
   "cell_type": "markdown",
   "metadata": {
    "slideshow": {
     "slide_type": "slide"
    }
   },
   "source": [
    "### Эксперимент\n",
    "\n",
    "Рассмотрим задачу\n",
    "\\begin{equation*}\n",
    "\\begin{split}\n",
    "& \\min \\|x\\|_2 \\\\\n",
    "\\text{s.t. } & Ax = b\n",
    "\\end{split}\n",
    "\\end{equation*}\n",
    " \n",
    "и решим её методом штрафных функций."
   ]
  },
  {
   "cell_type": "code",
   "execution_count": 1,
   "metadata": {
    "slideshow": {
     "slide_type": "slide"
    }
   },
   "outputs": [
    {
     "name": "stdout",
     "output_type": "stream",
     "text": [
      "----------------------------------------------------------------------------\n",
      "\tSCS v1.2.6 - Splitting Conic Solver\n",
      "\t(c) Brendan O'Donoghue, Stanford University, 2012-2016\n",
      "----------------------------------------------------------------------------\n",
      "Lin-sys: sparse-indirect, nnz in A = 221, CG tol ~ 1/iter^(2.00)\n",
      "eps = 1.00e-04, alpha = 1.50, max_iters = 2500, normalize = 1, scale = 1.00\n",
      "Variables n = 21, constraints m = 31\n",
      "Cones:\tprimal zero / dual free vars: 10\n",
      "\tsoc vars: 21, soc blks: 1\n",
      "Setup time: 9.12e-04s\n",
      "----------------------------------------------------------------------------\n",
      " Iter | pri res | dua res | rel gap | pri obj | dua obj | kap/tau | time (s)\n",
      "----------------------------------------------------------------------------\n",
      "     0|      inf       inf       nan      -inf       inf       inf  1.08e-03 \n",
      "    40| 4.27e-06  3.32e-06  1.31e-06  1.34e+00  1.34e+00  4.50e-17  1.27e-03 \n",
      "----------------------------------------------------------------------------\n",
      "Status: Solved\n",
      "Timing: Solve time: 1.28e-03s\n",
      "\tLin-sys: avg # CG iterations: 2.59, avg solve time: 2.44e-06s\n",
      "\tCones: avg projection time: 7.07e-08s\n",
      "----------------------------------------------------------------------------\n",
      "Error metrics:\n",
      "dist(s, K) = 1.5845e-16, dist(y, K*) = 0.0000e+00, s'y/|s||y| = -4.8403e-17\n",
      "|Ax + s - b|_2 / (1 + |b|_2) = 4.2672e-06\n",
      "|A'y + c|_2 / (1 + |c|_2) = 3.3176e-06\n",
      "|c'x + b'y| / (1 + |c'x| + |b'y|) = 1.3096e-06\n",
      "----------------------------------------------------------------------------\n",
      "c'x = 1.3414, -b'y = 1.3414\n",
      "============================================================================\n",
      "Optimal value from CVXPY = 1.341372001979229\n"
     ]
    }
   ],
   "source": [
    "import cvxpy\n",
    "import numpy as np\n",
    "import matplotlib.pyplot as plt\n",
    "%matplotlib inline\n",
    "plt.rc(\"text\", usetex=True)\n",
    "\n",
    "num_iters = 30\n",
    "n = 20\n",
    "m = 10\n",
    "A = np.random.randn(m, n)\n",
    "b = np.random.randn(m, 1)\n",
    "\n",
    "# Initialize problem\n",
    "x = cvxpy.Variable(shape=(n, 1))\n",
    "f = cvxpy.norm(x, 2)\n",
    "\n",
    "# Solve with CVXPY.\n",
    "cvxpy.Problem(cvxpy.Minimize(f), [A @ x == b]).solve(solver=cvxpy.SCS, verbose=True)\n",
    "cvxpy_f = f.value\n",
    "print (\"Optimal value from CVXPY =\", f.value)"
   ]
  },
  {
   "cell_type": "code",
   "execution_count": 3,
   "metadata": {
    "slideshow": {
     "slide_type": "slide"
    }
   },
   "outputs": [
    {
     "name": "stdout",
     "output_type": "stream",
     "text": [
      "Optimal value from method of augmented Lagrangian = 1.3415368101550718\n"
     ]
    }
   ],
   "source": [
    "resid = A@x - b\n",
    "mu = cvxpy.Parameter(value=1, nonneg=True)\n",
    "penal_f = f + (mu/2.)*cvxpy.sum_squares(resid)\n",
    "res_conv = []\n",
    "f_conv = []\n",
    "for t in range(num_iters):\n",
    "    cvxpy.Problem(cvxpy.Minimize(penal_f)).solve(solver=cvxpy.SCS)\n",
    "    mu.value = mu.value * 2\n",
    "    res_conv.append(np.linalg.norm(resid.value))\n",
    "    f_conv.append(f.value)\n",
    "\n",
    "print(\"Optimal value from method of augmented Lagrangian =\", f.value)"
   ]
  },
  {
   "cell_type": "code",
   "execution_count": 4,
   "metadata": {
    "slideshow": {
     "slide_type": "slide"
    }
   },
   "outputs": [
    {
     "data": {
      "image/png": "[encoded data removed]",
      "text/plain": [
       "<Figure size 576x432 with 1 Axes>"
      ]
     },
     "metadata": {},
     "output_type": "display_data"
    }
   ],
   "source": [
    "plt.figure(figsize=(8, 6))\n",
    "fontsize=20\n",
    "plt.plot(f_conv, label=\"Penalty\")\n",
    "plt.plot(np.ones(num_iters) * cvxpy_f, label=\"CVXPy\")\n",
    "plt.legend(fontsize=fontsize)\n",
    "plt.xlabel(\"Number of iterations, $k$\", fontsize=fontsize)\n",
    "plt.ylabel(\"Objective, $f(x_k)$\", fontsize=fontsize)\n",
    "plt.xticks(fontsize=fontsize)\n",
    "plt.grid(True)\n",
    "_ = plt.yticks(fontsize=fontsize)"
   ]
  },
  {
   "cell_type": "code",
   "execution_count": 5,
   "metadata": {
    "slideshow": {
     "slide_type": "slide"
    }
   },
   "outputs": [
    {
     "data": {
      "image/png": "[encoded data removed]",
      "text/plain": [
       "<Figure size 576x432 with 1 Axes>"
      ]
     },
     "metadata": {},
     "output_type": "display_data"
    }
   ],
   "source": [
    "plt.figure(figsize=(8, 6))\n",
    "fontsize=20\n",
    "plt.semilogy(res_conv)\n",
    "plt.xlabel(\"Number of iterations, $k$\", fontsize=fontsize)\n",
    "plt.ylabel(\"Norm of residuals, $\\|Ax_k - b\\|_2$\", fontsize=fontsize)\n",
    "plt.xticks(fontsize=fontsize)\n",
    "plt.grid(True)\n",
    "_ = plt.yticks(fontsize=fontsize)"
   ]
  },
  {
   "cell_type": "markdown",
   "metadata": {
    "slideshow": {
     "slide_type": "slide"
    }
   },
   "source": [
    "## Pro & Contra\n",
    "\n",
    "Pro\n",
    "\n",
    "- автоматический способ превращения произвольной задачи *условной* оптимизации в задачу *безусловной* оптимизации\n",
    "- начальную точку искать не надо\n",
    "- часто ограничения \"нестрогие\" и допустимо незначительное нарушение ограничений\n",
    "- простота реализации общей схемы\n",
    "\n",
    "Contra\n",
    "\n",
    "- решение задачи безусловной оптимизации не всегда является решением исходной задачи\n",
    "- если целевая функция определена только на допустимом множестве, то метод внешних штрафов не применим\n",
    "- квадратичная аппроксимация $Q(x, \\mu)$ может быть неадекватной"
   ]
  },
  {
   "cell_type": "markdown",
   "metadata": {
    "slideshow": {
     "slide_type": "slide"
    }
   },
   "source": [
    "## Двойственная задача: напоминание\n",
    "\n",
    "- Исходная задача\n",
    " \n",
    "\\begin{align*}\n",
    "& \\min f(x) \\\\\n",
    "\\text{s.t. } & Ax = b\n",
    "\\end{align*}\n",
    "\n",
    "- Лагранжиан\n",
    "\n",
    "$$\n",
    "L(x, \\lambda) = f(x) + \\lambda^{\\top}(Ax - b)\n",
    "$$\n",
    "\n",
    "- Двойственная задача\n",
    "\n",
    "$$\n",
    "\\max_{\\lambda} g(\\lambda), \n",
    "$$\n",
    " \n",
    "где $g(\\lambda) = \\inf_x L(x, \\lambda)$\n",
    "\n",
    "- Восстановление решения исходной заадчи\n",
    "\n",
    "$$\n",
    "x^* = \\arg\\min_x L(x, \\lambda^*)\n",
    "$$"
   ]
  },
  {
   "cell_type": "markdown",
   "metadata": {
    "slideshow": {
     "slide_type": "slide"
    }
   },
   "source": [
    "## Решение двойственной задачи\n",
    "\n",
    "- Градиентный подъём, так как задача без ограничений\n",
    "\n",
    "$$\n",
    "\\lambda_{k+1} = \\lambda_k + \\alpha_k g'(\\lambda_k)\n",
    "$$\n",
    "\n",
    "- При этом градиент двойственной функции \n",
    "\n",
    "$$\n",
    "g'(\\lambda_k) = A\\hat{x} - b,\n",
    "$$\n",
    "\n",
    "где $\\hat{x} = \\arg\\min_x L(x, \\lambda_k)$\n",
    "\n",
    "- Объединим два шага в один и получим \n",
    "\n",
    "\\begin{align*}\n",
    "& x_{k+1} = \\arg\\min_x L(x, \\lambda_k)\\\\\n",
    "& \\lambda_{k+1} = \\lambda_k + \\alpha_k (Ax_{k+1} - b)\n",
    "\\end{align*}"
   ]
  },
  {
   "cell_type": "markdown",
   "metadata": {
    "slideshow": {
     "slide_type": "slide"
    }
   },
   "source": [
    "### Важный частный случай\n",
    "\n",
    "- Функция сепарабельна\n",
    "- Обновление $x$ распадается на параллельные задачи по каждой координате"
   ]
  },
  {
   "cell_type": "code",
   "execution_count": 6,
   "metadata": {
    "slideshow": {
     "slide_type": "slide"
    }
   },
   "outputs": [],
   "source": [
    "import numpy as np\n",
    "import matplotlib.pyplot as plt\n",
    "%matplotlib inline\n",
    "plt.rc(\"text\", usetex=True)\n",
    "import cvxpy as cvx\n",
    "\n",
    "def dual_ascent(update_x, A, b, alpha, x0, lambda0, max_iter):\n",
    "    x = x0.copy()\n",
    "    lam = lambda0.copy()\n",
    "    conv_x = [x]\n",
    "    conv_lam = [lam]\n",
    "    for i in range(max_iter):\n",
    "        x = update_x(x, lam, A, b)\n",
    "        lam = lam + alpha * (A @ x - b)\n",
    "        conv_x.append(x.copy())\n",
    "        conv_lam.append(lam.copy())\n",
    "    return x, lam, conv_x, conv_lam"
   ]
  },
  {
   "cell_type": "markdown",
   "metadata": {
    "slideshow": {
     "slide_type": "slide"
    }
   },
   "source": [
    "### Модельный пример\n",
    "\n",
    "\\begin{align*}\n",
    "& \\min \\frac{1}{2}x^{\\top}Px - c^{\\top}x\\\\\n",
    "\\text{s.t. } & Ax = b\n",
    "\\end{align*}\n",
    "\n",
    "- Лагранжиан $L(x, \\lambda) = \\frac{1}{2}x^{\\top}Px - c^{\\top}x + \\lambda^{\\top}(Ax - b)$\n",
    "- Обновление прямых переменных \n",
    "\n",
    "$$\n",
    "x_{k+1} = P^{-1}(c - A^{\\top}\\lambda_k)\n",
    "$$"
   ]
  },
  {
   "cell_type": "code",
   "execution_count": 7,
   "metadata": {
    "slideshow": {
     "slide_type": "slide"
    }
   },
   "outputs": [
    {
     "name": "stdout",
     "output_type": "stream",
     "text": [
      "0.035276707573235914\n",
      "-----------------------------------------------------------------\n",
      "           OSQP v0.6.0  -  Operator Splitting QP Solver\n",
      "              (c) Bartolomeo Stellato,  Goran Banjac\n",
      "        University of Oxford  -  Stanford University 2019\n",
      "-----------------------------------------------------------------\n",
      "problem:  variables n = 20, constraints m = 10\n",
      "          nnz(P) + nnz(A) = 410\n",
      "settings: linear system solver = qdldl,\n",
      "          eps_abs = 1.0e-05, eps_rel = 1.0e-05,\n",
      "          eps_prim_inf = 1.0e-04, eps_dual_inf = 1.0e-04,\n",
      "          rho = 1.00e-01 (adaptive),\n",
      "          sigma = 1.00e-06, alpha = 1.60, max_iter = 10000\n",
      "          check_termination: on (interval 25),\n",
      "          scaling: on, scaled_termination: off\n",
      "          warm start: on, polish: on, time_limit: off\n",
      "\n",
      "iter   objective    pri res    dua res    rho        time\n",
      "   1  -1.1152e-01   2.23e+00   1.87e+03   1.00e-01   1.77e-04s\n",
      "  50   8.3513e+00   3.51e-09   2.52e-08   1.00e-01   3.28e-04s\n",
      "plsh   8.3513e+00   1.51e-15   2.05e-14   --------   4.58e-04s\n",
      "\n",
      "status:               solved\n",
      "solution polish:      successful\n",
      "number of iterations: 50\n",
      "optimal objective:    8.3513\n",
      "run time:             4.58e-04s\n",
      "optimal rho estimate: 6.14e-02\n",
      "\n",
      "1.7377739072730912e-15\n",
      "8.351275526841468\n"
     ]
    }
   ],
   "source": [
    "m, n = 10, 20\n",
    "A = np.random.randn(m, n)\n",
    "b = np.random.randn(m)\n",
    "P = np.random.randn(n, n)\n",
    "P = P.T @ P\n",
    "c = np.random.randn(n)\n",
    "spec = np.linalg.eigvalsh(P)\n",
    "mu = spec.min()\n",
    "print(mu)\n",
    "\n",
    "x = cvx.Variable(n)\n",
    "obj = 0.5 * cvx.quad_form(x, P) - c @ x\n",
    "problem = cvx.Problem(cvx.Minimize(obj), [A @ x == b])\n",
    "problem.solve(verbose=True)\n",
    "print(np.linalg.norm(A @ x.value - b))\n",
    "print(problem.value)"
   ]
  },
  {
   "cell_type": "code",
   "execution_count": 9,
   "metadata": {
    "slideshow": {
     "slide_type": "slide"
    }
   },
   "outputs": [
    {
     "name": "stdout",
     "output_type": "stream",
     "text": [
      "3.318634760560637e-09\n",
      "8.351275508748442\n"
     ]
    }
   ],
   "source": [
    "x0 = np.random.randn(n)\n",
    "lam0 = np.random.randn(m)\n",
    "\n",
    "max_iter = 100000\n",
    "alpha = 1e-3\n",
    "\n",
    "def f(x):\n",
    "    return 0.5 * x @ P @ x - c @ x\n",
    "\n",
    "def L(x, lam):\n",
    "    return f(x) + lam @ (A @ x - b)\n",
    "\n",
    "def update_x(x, lam, A, b):\n",
    "    return np.linalg.solve(P, c - A.T @ lam)\n",
    "\n",
    "x_da, lam_da, conv_x_da, conv_lam_da = dual_ascent(update_x, A, b, alpha, x0, lam0, max_iter)\n",
    "print(np.linalg.norm(A @ x_da - b))\n",
    "print(0.5 * x_da @ P @ x_da - c @ x_da)"
   ]
  },
  {
   "cell_type": "code",
   "execution_count": 10,
   "metadata": {
    "slideshow": {
     "slide_type": "slide"
    }
   },
   "outputs": [
    {
     "data": {
      "image/png": "[encoded data removed]",
      "text/plain": [
       "<Figure size 720x576 with 1 Axes>"
      ]
     },
     "metadata": {},
     "output_type": "display_data"
    }
   ],
   "source": [
    "plt.figure(figsize=(10, 8))\n",
    "plt.plot([f(x) for x in conv_x_da], label=\"Objective\")\n",
    "plt.plot(problem.value * np.ones(len(conv_x_da)), label=\"Traget value\")\n",
    "# plt.yscale(\"log\")\n",
    "plt.xscale(\"log\")\n",
    "plt.legend(fontsize=20)\n",
    "plt.xlabel(\"\\# iterations\", fontsize=20)\n",
    "plt.xticks(fontsize=20)\n",
    "plt.yticks(fontsize=20)\n",
    "plt.grid(True)"
   ]
  },
  {
   "cell_type": "code",
   "execution_count": 11,
   "metadata": {
    "slideshow": {
     "slide_type": "slide"
    }
   },
   "outputs": [
    {
     "data": {
      "text/plain": [
       "Text(0.5, 0, '\\\\# iterations')"
      ]
     },
     "execution_count": 11,
     "metadata": {},
     "output_type": "execute_result"
    },
    {
     "data": {
      "image/png": "[encoded data removed]",
      "text/plain": [
       "<Figure size 432x288 with 1 Axes>"
      ]
     },
     "metadata": {},
     "output_type": "display_data"
    }
   ],
   "source": [
    "plt.plot([L(x, lam) for x, lam in zip(conv_x_da, conv_lam_da)], \n",
    "         label=\"Lagrangian\")\n",
    "plt.legend(fontsize=20)\n",
    "plt.xlabel(\"\\# iterations\", fontsize=20)"
   ]
  },
  {
   "cell_type": "code",
   "execution_count": 12,
   "metadata": {
    "slideshow": {
     "slide_type": "slide"
    }
   },
   "outputs": [
    {
     "data": {
      "image/png": "[encoded data removed]",
      "text/plain": [
       "<Figure size 432x288 with 1 Axes>"
      ]
     },
     "metadata": {},
     "output_type": "display_data"
    }
   ],
   "source": [
    "plt.semilogy([np.linalg.norm(A @ x - b) for x in conv_x_da], label=\"$\\|Ax - b\\|_2$\")\n",
    "plt.legend(fontsize=20)\n",
    "plt.xlabel(\"\\# iterations\", fontsize=20)\n",
    "plt.xticks(fontsize=20)\n",
    "plt.yticks(fontsize=20)\n",
    "plt.grid(True)"
   ]
  },
  {
   "cell_type": "markdown",
   "metadata": {
    "collapsed": true,
    "slideshow": {
     "slide_type": "slide"
    }
   },
   "source": [
    "## Метод модифицированной функции Лагранжа\n",
    "**Мотивация:** для метода штрафных функций решения подзадач могут нарушать ограничения, и известно только, что\n",
    "\n",
    "$$\n",
    "g_i(x^*_k) \\approx \\frac{\\lambda^*_i}{\\mu_k} \\to 0, \\quad \\mu_k \\to \\infty\n",
    "$$\n",
    "\n",
    "Можно ли изменить $Q(x, \\mu)$ так, чтобы избежать этого нарушения ограничений?\n",
    "\n",
    "**Идея:** добавлять штраф не к целевой функции, а к функции Лагранжа. Обновляться при этом будут и прямые переменные и двойственные"
   ]
  },
  {
   "cell_type": "markdown",
   "metadata": {
    "collapsed": true,
    "slideshow": {
     "slide_type": "slide"
    }
   },
   "source": [
    "## Задача с ограничениями-равенствами\n",
    "\n",
    "\\begin{equation*}\n",
    "\\begin{split}\n",
    "& \\min f(x)\\\\\n",
    "\\text{s.t. } & g_i(x) = 0, \\; i=1,\\ldots,m\n",
    "\\end{split}\n",
    "\\end{equation*}"
   ]
  },
  {
   "cell_type": "markdown",
   "metadata": {
    "collapsed": true,
    "slideshow": {
     "slide_type": "slide"
    }
   },
   "source": [
    "### Модифицированная функция Лагранжа\n",
    "\n",
    "$$\n",
    "M(x, \\lambda, \\mu) = f(x) + \\sum\\limits_{i=1}^m\\lambda_i g_i(x) + \\frac{\\mu}{2}\\sum\\limits_{i=1}^mg^2_i(x)\n",
    "$$\n",
    "\n",
    "Необходимое условие минимума $M(x_k, \\lambda^k, \\mu_k)$\n",
    "\n",
    "$$\n",
    "f'(x_k) + \\sum\\limits_{i=1}^m (\\lambda^k_i + \\mu_k g_i(x_k) ) g'_i(x_k) \\approx 0\n",
    "$$\n",
    "\n",
    "Отсюда получаем выражение для $\\lambda^{k+1}$\n",
    "\n",
    "$$\n",
    "\\lambda^{k+1}_i = \\lambda^k_i + \\mu_k g_i(x_k)\n",
    "$$"
   ]
  },
  {
   "cell_type": "markdown",
   "metadata": {
    "collapsed": true,
    "slideshow": {
     "slide_type": "slide"
    }
   },
   "source": [
    "### Нарушение ограничений\n",
    "\n",
    "$$\n",
    "g_i(x_k) \\approx \\frac{\\lambda^*_i - \\lambda^k_i}{\\mu_k} \\to 0\n",
    "$$\n",
    "- В методе штрафных функций сходимость к 0 была порядка $1/\\mu_k$\n",
    "- В методе модифицированной функции Лагранжа сходимость к 0 быстрее, поскольку не только знаменатель возрастает, но и числитель стремится к 0"
   ]
  },
  {
   "cell_type": "markdown",
   "metadata": {
    "slideshow": {
     "slide_type": "slide"
    }
   },
   "source": [
    "## Задача с ограничениями типа равенства и неравенства\n",
    "\\begin{equation*}\n",
    "\\begin{split}\n",
    "& \\min_x f(x)\\\\\n",
    "\\text{s.t. } & g_i(x) = 0, \\; i=1,\\ldots,m \\\\\n",
    "& h_j(x) \\leq 0, \\; j = 1,\\ldots,p\n",
    "\\end{split}\n",
    "\\end{equation*}"
   ]
  },
  {
   "cell_type": "markdown",
   "metadata": {
    "collapsed": true,
    "slideshow": {
     "slide_type": "slide"
    }
   },
   "source": [
    "### Модифицированная функция Лагранжа\n",
    "\n",
    "$$\n",
    "M(x, \\mu, \\lambda, \\nu) = f(x) + \\sum\\limits_{i=1}^m \\left[\\lambda_ig_i(x) + \\frac{\\mu}{2}g^2_i(x)\\right] + \\frac{1}{2\\mu}\\sum\\limits_{j=1}^p\\left[ (\\nu_j + \\mu h_j(x))_+^2 - \\nu^2_j \\right],\n",
    "$$\n",
    "где $\\lambda$ - двойственные переменные для ограничений-равенств, $\\nu$ - двойственная переменная для ограничений-неравенств."
   ]
  },
  {
   "cell_type": "markdown",
   "metadata": {
    "slideshow": {
     "slide_type": "slide"
    }
   },
   "source": [
    "### Обновление двойственных переменных для неравенств\n",
    "\n",
    "$$\n",
    "\\nu^{k+1}_j = (\\nu^k_j + \\mu_k h_j(x_k))_+\n",
    "$$"
   ]
  },
  {
   "cell_type": "markdown",
   "metadata": {
    "slideshow": {
     "slide_type": "slide"
    }
   },
   "source": [
    "### Общая схема \n",
    "\n",
    "1. Формируется функция $M$\n",
    "2. По необходимым условиям находится выражение для $x_k(\\lambda, \\nu, \\mu)$ и проверяется по достаточным условиям на минимум\n",
    "3. Взятием предела по $\\mu \\to \\infty$ при фиксированных двойственных переменных определяются прямые переменные, являющиеся решением исходной задачи\n",
    "4. Выражения для $x^k$ подставляются в выражения для $\\lambda$ и $\\nu$\n",
    "5. Взятием предела по $\\mu \\to \\infty$ определяются двойственные переменные для найденных оптимальных прямых переменных"
   ]
  },
  {
   "cell_type": "markdown",
   "metadata": {
    "slideshow": {
     "slide_type": "slide"
    }
   },
   "source": [
    "### Сходимость\n",
    "\n",
    "- Локальная сходимость при выборе начального приближения достаточно близко к минимуму по прямым и двойственным переменным\n",
    "- Бесконечно увеличивать параметр $\\mu$ не нужно: для некоторого достаточно большого $\\mu$ решения вспомогательных задач гарантировано будут сходиться к решению исходной задачи\n",
    "- Решение вспомогательных задач проще, чем в методе штрафов, так как параметр $\\mu$ ограничен сверху"
   ]
  },
  {
   "cell_type": "markdown",
   "metadata": {
    "slideshow": {
     "slide_type": "slide"
    }
   },
   "source": [
    "## Практические замечания\n",
    "\n",
    "- Метод модифицированной функции Лагранжа предпочтительнее, поскольку решение подзадачи не сложнее, чем в методе штрафов, но сходимость более быстрая\n",
    "- Метод штрафов становится предпочтительным как регуляризация в подходе *последовательного квадратичного программирования* ([SQP](https://en.wikipedia.org/wiki/Sequential_quadratic_programming))\n",
    "- Пакеты [LANCELOT](http://www.numerical.rl.ac.uk/lancelot/blurb.html) и [MINOS](https://en.wikipedia.org/wiki/MINOS_(optimization_software)) по-разному реализуют метод модифицированной функции Лагранжа\n",
    "- В [статье](https://www.dropbox.com/s/rdqcn0fppumreto/MinosvsLancelot.pdf?dl=0) приведено сравнение этих пакетов, однако они оба разработаны в начале 90х и написаны на Fortran'e"
   ]
  },
  {
   "cell_type": "code",
   "execution_count": 13,
   "metadata": {
    "slideshow": {
     "slide_type": "fragment"
    }
   },
   "outputs": [],
   "source": [
    "def augmented_lagrangian(update_x, A, b, rho0, x0, lambda0, max_iter):\n",
    "    x = x0.copy()\n",
    "    lam = lambda0.copy()\n",
    "    conv_x = [x]\n",
    "    conv_lam = [lam]\n",
    "    rho = rho0\n",
    "    for i in range(max_iter):\n",
    "        x = update_x(x, lam, A, b)\n",
    "        lam = lam + rho * (A @ x - b)\n",
    "        conv_x.append(x.copy())\n",
    "        conv_lam.append(lam.copy())\n",
    "    return x, lam, conv_x, conv_lam"
   ]
  },
  {
   "cell_type": "code",
   "execution_count": 14,
   "metadata": {
    "slideshow": {
     "slide_type": "slide"
    }
   },
   "outputs": [
    {
     "name": "stdout",
     "output_type": "stream",
     "text": [
      "1.3955287025942437e-15\n",
      "8.35127552684147\n"
     ]
    }
   ],
   "source": [
    "def update_x_al(x, lam, A, b):\n",
    "    return np.linalg.solve(P + rho * A.T @ A, c - A.T @ lam + A.T @ b)\n",
    "\n",
    "rho = 10\n",
    "max_iter = 1000\n",
    "x_al, lam_al, conv_x_al, conv_lam_al = augmented_lagrangian(update_x_al, A, b, rho, x0, lam0, max_iter)\n",
    "print(np.linalg.norm(A @ x_al - b))\n",
    "print(0.5 * x_al @ P @ x_al - c @ x_al)"
   ]
  },
  {
   "cell_type": "code",
   "execution_count": 15,
   "metadata": {
    "slideshow": {
     "slide_type": "slide"
    }
   },
   "outputs": [
    {
     "data": {
      "text/plain": [
       "Text(0, 0.5, 'Objective')"
      ]
     },
     "execution_count": 15,
     "metadata": {},
     "output_type": "execute_result"
    },
    {
     "data": {
      "image/png": "[encoded data removed]",
      "text/plain": [
       "<Figure size 432x288 with 1 Axes>"
      ]
     },
     "metadata": {},
     "output_type": "display_data"
    }
   ],
   "source": [
    "plt.plot([f(x) for x in conv_x_da], label=\"DA\")\n",
    "plt.plot([f(x) for x in conv_x_al], label=\"AL\")\n",
    "# plt.yscale(\"log\")\n",
    "plt.xscale(\"log\")\n",
    "plt.legend(fontsize=20)\n",
    "plt.xlabel(\"\\# iterations\", fontsize=20)\n",
    "plt.ylabel(\"Objective\", fontsize=20)"
   ]
  },
  {
   "cell_type": "code",
   "execution_count": 16,
   "metadata": {
    "slideshow": {
     "slide_type": "slide"
    }
   },
   "outputs": [
    {
     "data": {
      "text/plain": [
       "Text(0.5, 0, 'Lagrangian')"
      ]
     },
     "execution_count": 16,
     "metadata": {},
     "output_type": "execute_result"
    },
    {
     "data": {
      "image/png": "[encoded data removed]",
      "text/plain": [
       "<Figure size 432x288 with 1 Axes>"
      ]
     },
     "metadata": {},
     "output_type": "display_data"
    }
   ],
   "source": [
    "plt.plot([L(x, lam) for x, lam in zip(conv_x_da, conv_lam_da)], \n",
    "         label=\"DA\")\n",
    "plt.plot([L(x, lam) for x, lam in zip(conv_x_al, conv_lam_al)], \n",
    "         label=\"AL\")\n",
    "plt.legend(fontsize=20)\n",
    "plt.xscale(\"log\")\n",
    "plt.xlabel(\"\\# iterations\", fontsize=20)\n",
    "plt.xlabel(\"Lagrangian\", fontsize=20)"
   ]
  },
  {
   "cell_type": "code",
   "execution_count": 17,
   "metadata": {
    "slideshow": {
     "slide_type": "slide"
    }
   },
   "outputs": [
    {
     "data": {
      "text/plain": [
       "(array([1.e-02, 1.e-01, 1.e+00, 1.e+01, 1.e+02, 1.e+03, 1.e+04, 1.e+05,\n",
       "        1.e+06, 1.e+07]), <a list of 10 Text xticklabel objects>)"
      ]
     },
     "execution_count": 17,
     "metadata": {},
     "output_type": "execute_result"
    },
    {
     "data": {
      "image/png": "[encoded data removed]",
      "text/plain": [
       "<Figure size 432x288 with 1 Axes>"
      ]
     },
     "metadata": {},
     "output_type": "display_data"
    }
   ],
   "source": [
    "plt.semilogy([np.linalg.norm(A @ x - b) for x in conv_x_da], label=\"DA\")\n",
    "plt.semilogy([np.linalg.norm(A @ x - b) for x in conv_x_al], label=\"AL\")\n",
    "plt.legend(fontsize=20)\n",
    "plt.xscale(\"log\")\n",
    "plt.xlabel(\"\\# iterations\", fontsize=20)\n",
    "plt.ylabel(\"$\\|Ax - b\\|_2$\", fontsize=20)\n",
    "plt.grid(True)\n",
    "plt.yticks(fontsize=20)\n",
    "plt.xticks(fontsize=20)"
   ]
  },
  {
   "cell_type": "markdown",
   "metadata": {
    "slideshow": {
     "slide_type": "slide"
    }
   },
   "source": [
    "### Существенная проблема\n",
    "\n",
    "- Слагаемое $\\|Ax - b\\|_2^2$ сделало лагранжиан НЕсепарабельным!"
   ]
  },
  {
   "cell_type": "markdown",
   "metadata": {
    "slideshow": {
     "slide_type": "slide"
    }
   },
   "source": [
    "## Сделаем его сепарабельным и получим ADMM\n",
    "\n",
    "Задача станет такой\n",
    "\n",
    "\\begin{align*}\n",
    "& \\min f(x) + I_{Ax = b} (z)\\\\\n",
    "\\text{s.t. } & x = z\n",
    "\\end{align*}\n",
    "\n",
    "Для неё модифицированный лагранжиан примет вид\n",
    "\n",
    "$$\n",
    "L_{\\rho}(x, z, \\lambda) = f(x) + I_{Ax = b} (z) + \\lambda^{\\top}(x - z) + \\frac{\\rho}{2}\\|x - z\\|_2^2\n",
    "$$\n",
    "\n",
    "- Теперь метод примет вид\n",
    "\n",
    "\\begin{align*}\n",
    "& x_{k+1} = \\arg\\min_x L_{\\rho}(x, z_k, \\lambda_k)\\\\\n",
    "& z_{k+1} = \\arg\\min_z L_{\\rho}(x_{k+1}, z, \\lambda_k) \\\\\n",
    "& \\lambda_{k+1} = \\lambda_k + \\rho (x_{k+1} - z_{k+1})\n",
    "\\end{align*}\n",
    "- Обновление $z$ эквивалентно $\\pi_{Ax = b}(x_{k+1} + \\frac{\\lambda_k}{\\rho})$ "
   ]
  },
  {
   "cell_type": "code",
   "execution_count": 18,
   "metadata": {
    "slideshow": {
     "slide_type": "slide"
    }
   },
   "outputs": [],
   "source": [
    "def admm(update_x, update_z, rho0, x0, z0, lambda0, max_iter):\n",
    "    x = x0.copy()\n",
    "    z = z0.copy()\n",
    "    lam = lambda0.copy()\n",
    "    conv_x = [x]\n",
    "    conv_z = [z]\n",
    "    conv_lam = [lam]\n",
    "    rho = rho0\n",
    "    for i in range(max_iter):\n",
    "        x = update_x(x, z, lam, A, b)\n",
    "        z = update_z(x, z, lam, A, b)\n",
    "        lam = lam + rho * (x - z)\n",
    "        conv_x.append(x.copy())\n",
    "        conv_z.append(z.copy())\n",
    "        conv_lam.append(lam.copy())\n",
    "    return x, z, lam, conv_x, conv_z, conv_lam"
   ]
  },
  {
   "cell_type": "code",
   "execution_count": 19,
   "metadata": {
    "slideshow": {
     "slide_type": "slide"
    }
   },
   "outputs": [],
   "source": [
    "def update_x_admm(x, z, lam, A, b):\n",
    "    n = x.shape[0]\n",
    "    return np.linalg.solve(P + rho*np.eye(n), -lam + c + rho * z)\n",
    "\n",
    "def update_z_admm(x, z, lam, A, b):\n",
    "    x_hat = lam / rho + x\n",
    "    return x_hat - A.T @ np.linalg.solve(A @ A.T, A @ x_hat - b)"
   ]
  },
  {
   "cell_type": "code",
   "execution_count": 25,
   "metadata": {
    "slideshow": {
     "slide_type": "slide"
    }
   },
   "outputs": [
    {
     "name": "stdout",
     "output_type": "stream",
     "text": [
      "8.35127552680348\n"
     ]
    }
   ],
   "source": [
    "z0 = np.random.randn(n)\n",
    "lam0 = np.random.randn(n)\n",
    "rho = 10\n",
    "\n",
    "x_admm, z_admm, lam_admm, conv_x_admm, conv_z_admm, conv_lam_admm = admm(update_x_admm, \n",
    "                                                                         update_z_admm, \n",
    "                                                                         rho, x0, z0, lam0, \n",
    "                                                                         max_iter=100)\n",
    "print(f(x_admm))"
   ]
  },
  {
   "cell_type": "code",
   "execution_count": 26,
   "metadata": {
    "slideshow": {
     "slide_type": "slide"
    }
   },
   "outputs": [
    {
     "data": {
      "text/plain": [
       "(array([1.e-02, 1.e-01, 1.e+00, 1.e+01, 1.e+02, 1.e+03, 1.e+04, 1.e+05,\n",
       "        1.e+06, 1.e+07]), <a list of 10 Text xticklabel objects>)"
      ]
     },
     "execution_count": 26,
     "metadata": {},
     "output_type": "execute_result"
    },
    {
     "data": {
      "image/png": "[encoded data removed]",
      "text/plain": [
       "<Figure size 720x576 with 1 Axes>"
      ]
     },
     "metadata": {},
     "output_type": "display_data"
    }
   ],
   "source": [
    "plt.figure(figsize=(10, 8))\n",
    "plt.plot([f(x) for x in conv_x_da], label=\"DA\")\n",
    "plt.plot([f(x) for x in conv_x_al], label=\"AL\")\n",
    "plt.plot([f(x) for x in conv_x_admm], label=\"ADMM x\")\n",
    "plt.plot([f(z) for z in conv_z_admm], label=\"ADMM z\")\n",
    "# plt.yscale(\"log\")\n",
    "plt.xscale(\"log\")\n",
    "plt.legend(fontsize=20)\n",
    "plt.xlabel(\"\\# iterations\", fontsize=20)\n",
    "plt.ylabel(\"Objective\", fontsize=20)\n",
    "plt.grid(True)\n",
    "plt.yticks(fontsize=20)\n",
    "plt.xticks(fontsize=20)"
   ]
  },
  {
   "cell_type": "code",
   "execution_count": 27,
   "metadata": {
    "slideshow": {
     "slide_type": "slide"
    }
   },
   "outputs": [
    {
     "data": {
      "image/png": "[encoded data removed]",
      "text/plain": [
       "<Figure size 432x288 with 1 Axes>"
      ]
     },
     "metadata": {},
     "output_type": "display_data"
    }
   ],
   "source": [
    "plt.semilogy([np.linalg.norm(A @ x - b) for x in conv_x_da], label=\"DA\")\n",
    "plt.semilogy([np.linalg.norm(A @ x - b) for x in conv_x_al], label=\"AL\")\n",
    "plt.semilogy([np.linalg.norm(A @ x - b) for x in conv_x_admm], label=\"ADMM\")\n",
    "plt.legend(fontsize=20)\n",
    "plt.xscale(\"log\")\n",
    "plt.xlabel(\"\\# iterations\", fontsize=20)\n",
    "plt.ylabel(\"$\\|Ax - b\\|_2$\", fontsize=20)\n",
    "plt.grid(True)\n",
    "plt.yticks(fontsize=20)\n",
    "plt.xticks(fontsize=20)\n",
    "plt.show()"
   ]
  },
  {
   "cell_type": "code",
   "execution_count": 28,
   "metadata": {
    "slideshow": {
     "slide_type": "slide"
    }
   },
   "outputs": [
    {
     "data": {
      "image/png": "[encoded data removed]",
      "text/plain": [
       "<Figure size 432x288 with 1 Axes>"
      ]
     },
     "metadata": {},
     "output_type": "display_data"
    }
   ],
   "source": [
    "plt.semilogy([np.linalg.norm(x - z) for x, z in zip(conv_x_admm, conv_z_admm)])\n",
    "plt.grid(True)\n",
    "plt.xlabel(\"\\# iterations\", fontsize=20)\n",
    "plt.ylabel(\"$\\|x_k - z_k\\|_2$\", fontsize=20)\n",
    "plt.yticks(fontsize=20)\n",
    "plt.show()"
   ]
  },
  {
   "cell_type": "markdown",
   "metadata": {
    "slideshow": {
     "slide_type": "slide"
    }
   },
   "source": [
    "### Учтём, что все свойства сохранятся при аффинных преобразованиях\n",
    "\n",
    "- Тогда наша задача в общем виде может быть записана как\n",
    "\n",
    "\\begin{align*}\n",
    "& \\min f(x) + g(z)\\\\\n",
    "\\text{s.t. } & Ax + Bz = d\n",
    "\\end{align*}\n",
    "\n",
    "- Модифицированный лагранжиан для неё будет\n",
    "\n",
    "$$\n",
    "L_{\\rho}(x, z, \\lambda) = f(x) + g(z) + \\lambda^{\\top}(Ax + Bz - d) + \\frac{\\rho}{2}\\|Ax + Bz - d\\|_2^2\n",
    "$$\n",
    "- В этом случае сепарабельность по $z$ и $x$, но не внутри этих переменных\n",
    "- В итоге, после внесения линейного слагаемого в квадратичное получим\n",
    "\n",
    "\\begin{align*}\n",
    "& x_{k+1} = \\arg\\min_x \\left( f(x) + \\frac{\\rho}{2}\\|Ax + Bz_k - d + u_k \\|_2^2 \\right)\\\\\n",
    "& z_{k+1} = \\arg\\min_z  \\left( g(z) + \\frac{\\rho}{2}\\|Ax_{k+1} + Bz - d + u_k \\|_2^2 \\right)\\\\\n",
    "& u_{k+1} = u_k + x_{k+1} - z_{k+1},\n",
    "\\end{align*}\n",
    "где $u_k = \\lambda_k / \\rho$"
   ]
  },
  {
   "cell_type": "markdown",
   "metadata": {
    "slideshow": {
     "slide_type": "slide"
    }
   },
   "source": [
    "### Как это всё использовать?\n",
    "\n",
    "- Часто приводить вашу задачу к стандартному виду с предыдущего слайда неудобно\n",
    "- Поэтому лучше для конкретной задачи приводить её руками к виду, который допускает применение ADMM\n",
    "- Выписать аналитически все решения вспомогательных задач\n",
    "- Реализовать их вычисления наиболее оптимальным образом (сделать факторизации матриц, которые не меняются с итерациями)"
   ]
  },
  {
   "cell_type": "markdown",
   "metadata": {
    "slideshow": {
     "slide_type": "slide"
    }
   },
   "source": [
    "## Задача линейного программирования\n",
    "\n",
    "\\begin{align*}\n",
    "& \\min c^{\\top}x\\\\\n",
    "\\text{s.t. } & Ax = b\\\\\n",
    "& x \\geq 0\n",
    "\\end{align*}\n",
    "\n",
    "- Модифицированный лагранжиан\n",
    "\n",
    "$$\n",
    "L_{\\rho}(x, z, \\lambda) = c^{\\top}x + I_{z \\geq 0}(z) + \\lambda^{\\top}(x - z) + \\frac{\\rho}{2}\\|x - z\\|_2^2,\n",
    "$$\n",
    "\n",
    "где $c^{\\top}x$ определена на множестве $Ax = b$.\n",
    "\n",
    "- Шаг обновления по $x$ примет вид\n",
    "\n",
    "$$\n",
    "x_{k+1} = \\arg\\min_{x: \\; Ax = b} c^{\\top}x +\\lambda^{\\top}x + \\frac{\\rho}{2}\\|x - z\\|_2^2\n",
    "$$\n",
    "\n",
    "- Получим систему из условий оптимальности\n",
    "\n",
    "$$\n",
    "\\begin{bmatrix}\n",
    "\\rho I & A^{\\top} \\\\\n",
    "A & 0\n",
    "\\end{bmatrix}\n",
    "\\begin{bmatrix}\n",
    "x_{k+1}\\\\\n",
    "\\mu\n",
    "\\end{bmatrix}\n",
    "= \n",
    "\\begin{bmatrix}\n",
    "-\\lambda_k - c + \\rho z_k\\\\\n",
    "b\n",
    "\\end{bmatrix}\n",
    "$$"
   ]
  },
  {
   "cell_type": "code",
   "execution_count": 46,
   "metadata": {
    "slideshow": {
     "slide_type": "slide"
    }
   },
   "outputs": [
    {
     "name": "stdout",
     "output_type": "stream",
     "text": [
      "     con: array([-5.55111512e-17, -1.11022302e-16, -5.55111512e-17, -1.11022302e-16,\n",
      "       -2.22044605e-16, -1.11022302e-16, -1.11022302e-16, -3.33066907e-16,\n",
      "        0.00000000e+00, -5.55111512e-17])\n",
      "     fun: 0.3506633242985203\n",
      " message: 'Optimization terminated successfully.'\n",
      "     nit: 22\n",
      "   slack: array([], dtype=float64)\n",
      "  status: 0\n",
      " success: True\n",
      "       x: array([0.        , 0.        , 0.        , 0.        , 0.        ,\n",
      "       0.004794  , 0.        , 0.        , 0.        , 0.        ,\n",
      "       0.        , 0.        , 0.        , 0.        , 0.        ,\n",
      "       0.        , 0.        , 0.        , 0.        , 0.        ,\n",
      "       0.        , 0.        , 0.        , 0.        , 0.        ,\n",
      "       0.        , 0.        , 0.        , 0.        , 0.        ,\n",
      "       0.        , 0.        , 0.        , 0.        , 0.        ,\n",
      "       0.        , 0.        , 0.        , 0.        , 0.        ,\n",
      "       0.        , 0.        , 0.        , 0.        , 0.        ,\n",
      "       0.        , 0.        , 0.        , 0.        , 0.        ,\n",
      "       0.        , 0.        , 0.        , 0.        , 0.        ,\n",
      "       0.        , 0.        , 0.        , 0.        , 0.        ,\n",
      "       0.        , 0.        , 0.        , 0.        , 0.        ,\n",
      "       0.        , 0.        , 0.        , 0.        , 0.        ,\n",
      "       0.        , 0.        , 0.        , 0.        , 0.        ,\n",
      "       0.        , 0.        , 0.        , 0.        , 0.        ,\n",
      "       0.        , 0.        , 0.        , 0.        , 0.        ,\n",
      "       0.        , 0.        , 0.        , 0.        , 0.        ,\n",
      "       0.        , 0.        , 0.        , 0.        , 0.        ,\n",
      "       0.        , 0.        , 0.        , 0.16781554, 0.        ,\n",
      "       0.        , 0.        , 0.        , 0.        , 0.        ,\n",
      "       0.        , 0.        , 0.        , 0.        , 0.        ,\n",
      "       0.        , 0.        , 0.        , 0.09238484, 0.        ,\n",
      "       0.        , 0.        , 0.        , 0.22680145, 0.        ,\n",
      "       0.09523994, 0.        , 0.        , 0.        , 0.        ,\n",
      "       0.        , 0.05256825, 0.        , 0.27356996, 0.        ,\n",
      "       0.        , 0.        , 0.        , 0.        , 0.        ,\n",
      "       0.        , 0.        , 0.        , 0.        , 0.        ,\n",
      "       0.        , 0.        , 0.        , 0.        , 0.        ,\n",
      "       0.        , 0.        , 0.        , 0.        , 0.        ,\n",
      "       0.        , 0.03652139, 0.        , 0.        , 0.        ,\n",
      "       0.        , 0.        , 0.        , 0.        , 0.        ,\n",
      "       0.        , 0.        , 0.        , 0.        , 0.        ,\n",
      "       0.        , 0.        , 0.        , 0.        , 0.        ,\n",
      "       0.39543046, 0.        , 0.        , 0.        , 0.        ,\n",
      "       0.        , 0.        , 0.        , 0.        , 0.        ,\n",
      "       0.        , 0.        , 0.        , 0.        , 0.        ,\n",
      "       0.        , 0.        , 0.        , 0.        , 0.        ,\n",
      "       0.        , 0.        , 0.        , 0.        , 0.        ,\n",
      "       0.        , 0.        , 0.        , 0.05843656, 0.        ])\n"
     ]
    }
   ],
   "source": [
    "import scipy.optimize as scopt\n",
    "\n",
    "m, n = 10, 200\n",
    "A = np.random.rand(m, n)\n",
    "b = np.random.rand(m)\n",
    "c = np.random.rand(n)\n",
    "\n",
    "scipy_linprog_conv = []\n",
    "def callback_splin(cur_res):\n",
    "    scipy_linprog_conv.append(cur_res)\n",
    "    \n",
    "res = scopt.linprog(c, A_eq=A, b_eq=b, \n",
    "                    bounds=[(0, None) for i in range(n)],\n",
    "                    callback=callback_splin, method=\"simplex\")\n",
    "print(res)"
   ]
  },
  {
   "cell_type": "code",
   "execution_count": 47,
   "metadata": {
    "slideshow": {
     "slide_type": "slide"
    }
   },
   "outputs": [],
   "source": [
    "def update_x_admm(x, z, lam, A, b):\n",
    "    n = x.shape[0]\n",
    "    m = A.shape[0]\n",
    "    C = np.block([[rho * np.eye(n), A.T], [A, np.zeros((m, m))]])\n",
    "    rhs = np.block([-lam - c + rho * z, b])\n",
    "    return np.linalg.solve(C, rhs)[:n]\n",
    "\n",
    "def update_z_admm(x, z, lam, A, b):\n",
    "    x_hat = lam / rho + x\n",
    "    return np.clip(x_hat, 0, np.max(x_hat))"
   ]
  },
  {
   "cell_type": "code",
   "execution_count": 49,
   "metadata": {
    "slideshow": {
     "slide_type": "slide"
    }
   },
   "outputs": [
    {
     "name": "stdout",
     "output_type": "stream",
     "text": [
      "0.35159598712261525 0.3506633242985203\n"
     ]
    }
   ],
   "source": [
    "x0 = np.random.randn(n)\n",
    "z0 = np.random.randn(n)\n",
    "lam0 = np.random.randn(n)\n",
    "rho = 10\n",
    "\n",
    "x_admm, z_admm, lam_admm, conv_x_admm, conv_z_admm, conv_lam_admm = admm(update_x_admm, \n",
    "                                                                         update_z_admm, \n",
    "                                                                         rho, x0, z0, lam0, max_iter=10000)\n",
    "print(c @ x_admm, res.fun)"
   ]
  },
  {
   "cell_type": "code",
   "execution_count": 50,
   "metadata": {
    "slideshow": {
     "slide_type": "slide"
    }
   },
   "outputs": [
    {
     "name": "stdout",
     "output_type": "stream",
     "text": [
      "0.000932662824094932 0.008932164763089577\n"
     ]
    }
   ],
   "source": [
    "print(c @ x_admm - res.fun, np.linalg.norm(x_admm - res.x))"
   ]
  },
  {
   "cell_type": "code",
   "execution_count": 51,
   "metadata": {
    "slideshow": {
     "slide_type": "slide"
    }
   },
   "outputs": [
    {
     "data": {
      "text/plain": [
       "(array([-20.,   0.,  20.,  40.,  60.,  80., 100., 120.]),\n",
       " <a list of 8 Text xticklabel objects>)"
      ]
     },
     "execution_count": 51,
     "metadata": {},
     "output_type": "execute_result"
    },
    {
     "data": {
      "image/png": "[encoded data removed]",
      "text/plain": [
       "<Figure size 720x576 with 1 Axes>"
      ]
     },
     "metadata": {},
     "output_type": "display_data"
    }
   ],
   "source": [
    "plt.figure(figsize=(10, 8))\n",
    "plt.plot([c @ x for x in conv_x_admm[:100]], label=\"ADMM\")\n",
    "plt.plot([c @ res.x for res in scipy_linprog_conv], label=\"Scipy\")\n",
    "plt.legend(fontsize=20)\n",
    "plt.grid(True)\n",
    "plt.xlabel(\"\\# iterations\", fontsize=20)\n",
    "plt.ylabel(\"$c^{\\\\top}x_k$\", fontsize=20)\n",
    "plt.yticks(fontsize=20)\n",
    "plt.xticks(fontsize=20)"
   ]
  },
  {
   "cell_type": "markdown",
   "metadata": {
    "slideshow": {
     "slide_type": "slide"
    }
   },
   "source": [
    "## Комментарии\n",
    "\n",
    "- Сходимость по итерациям медленнее, но стоимость одной итерации также меньше\n",
    "- Основной выигрыш при использовании ADMM в получении не очень точного решения **параллельно** и очень быстро\n",
    "- Различные способы представления задачи в виде, пригодном для использования ADMM, порождают различные методы, которые имеют различные свойства\n",
    "- Например в [этой](https://papers.nips.cc/paper/6746-a-new-alternating-direction-method-for-linear-programming.pdf) статье предлагается альтернативный способ решения задачи линейного программирования через ADMM\n",
    "- [Метод SCS](https://stanford.edu/~boyd/papers/pdf/scs_long.pdf), используемый по умолчанию в CVXPy, основан на применеии ADMM к коническому представлению исходной задачи "
   ]
  },
  {
   "cell_type": "markdown",
   "metadata": {
    "slideshow": {
     "slide_type": "slide"
    }
   },
   "source": [
    "## Подробнее про ADMM для конических задач\n",
    "\n",
    "- Прямая коническая задача\n",
    "\n",
    "$$ \\min_{(x,s) \\in K \\times \\{0\\}} c^\\top x \\quad \\text{s.t. } Ax + s = b $$ \n",
    "\n",
    "- Получим двойственную задачу\n",
    "    - Лагранжиан $L(x, \\lambda) = c^{\\top}x + \\lambda^\\top (Ax + s - b)$ при $(x,s) \\in K \\times \\{0\\}$\n",
    "    - Двойственная функция $g(\\lambda) = \\inf_{x\\in K} L(x, \\lambda) = -\\lambda^\\top b + \\inf_{(x,s) \\in K \\times \\{0\\}} (c + A^\\top \\lambda, \\lambda)^\\top (x, s) = \n",
    "    \\begin{cases} -\\lambda^\\top b, & (c + A^\\top \\lambda, \\lambda) \\in K^* \\times \\{0\\}^* \\\\ \\infty, & \\text{otherwise} \\end{cases}$\n",
    "    - Двойственная задача $\\max_{(\\lambda, y) \\in \\mathbb{R}^m \\times K^*} -\\lambda^\\top b, \\quad \\text{s.t. } -A^\\top \\lambda  + y = c$\n",
    "    \n",
    "- Соотношение между прямой и двойственной целевыми функциями $-\\lambda^\\top b \\leq c^\\top x$, а значит зазор двойственности $c^\\top x + \\lambda^\\top b$"
   ]
  },
  {
   "cell_type": "markdown",
   "metadata": {
    "slideshow": {
     "slide_type": "slide"
    }
   },
   "source": [
    "## Условия оптимальности\n",
    "\n",
    "- Пусть $(x^*, s^*, \\lambda^*, y^*)$ решение прямой и двойственной задачи. Тогда\n",
    "    - $Ax^* + s^* = b$, $s^* = 0$, $x^* \\in K$ - допустимость прямой задачи\n",
    "    - $c + A^\\top \\lambda^*  = y^*$, $y^* \\in K^*$ - допустимость двойственной задачи\n",
    "    - $y^*_ix^*_i = 0 \\rightarrow (y^*)^\\top(x^*) = 0$ - дополняющая нежёсткость, которая следует из нулевого зазора двойственности в случае сильной двойственности\n",
    "    \n",
    "- Сведём все эти условия в одну систему\n",
    "\n",
    "$$ \\begin{bmatrix} A & 0 \\\\ 0 & -A^\\top \\\\ c^\\top & b^\\top \\end{bmatrix} \\begin{bmatrix} x \\\\ \\lambda \\end{bmatrix} + \\begin{bmatrix} s \\\\  y \\\\ 0 \\end{bmatrix} = \\begin{bmatrix} b \\\\ c \\\\ 0 \\end{bmatrix} \\quad \\text{для} \\quad (x, s, y, \\lambda) \\in K \\times \\{0\\} \\times K^* \\times \\mathbb{R}^m $$ \n",
    "\n",
    "- Если у этой системы есть решение, то оно является решением исходной задачи\n",
    "- Если прямая или двойственная задача не разрешима, то у этой системы нет решения"
   ]
  },
  {
   "cell_type": "markdown",
   "metadata": {
    "slideshow": {
     "slide_type": "slide"
    }
   },
   "source": [
    "### Прямо-двойственное вложение\n",
    "\n",
    "- Введём две новые переменные $\\tau \\geq 0, \\mu \\geq 0$\n",
    "- Одна из них будет отражать возможность положительного зазора двойственности\n",
    "- Другая в случае положительных значений позволит восстановить решение исходной задачи. Отдельно рассмотрим случай нулевого значения.\n",
    "- Получим такую блочную линейную систему\n",
    "\n",
    "$$ \\begin{bmatrix} 0 & -A & b \\\\ -A^\\top & 0 & c \\\\ -b^\\top & -c^\\top & 0 \\end{bmatrix} \\begin{bmatrix} \\lambda \\\\ x \\\\ \\tau \\end{bmatrix} = \\begin{bmatrix} s \\\\ y \\\\ \\mu \\end{bmatrix} $$\n",
    "\n",
    "или в упрощённых обозначениях\n",
    "\n",
    " $$ Qu = w $$\n",
    "\n",
    "при $(x, s, y, \\lambda, \\tau, \\mu) \\in K \\times \\{0\\} \\times K^* \\times \\mathbb{R}^m \\times \\mathbb{R}_+ \\times \\mathbb{R}_+$ или $(u, w) \\in C \\times C^*$\n",
    "\n",
    "- В случае $\\tau = 1$ и $\\mu = 0$ получим исходную систему.\n",
    "- Если $\\tau > 0$ и $\\mu = 0$, тo делением на $\\tau$ получим оптимальное решение\n",
    "- **Упражнение**: рассмотрите случаи $\\tau = 0, \\mu > 0$ и $\\tau = \\mu = 0$\n",
    "- **Упражнение**: возможны ли другие случаи?"
   ]
  },
  {
   "cell_type": "markdown",
   "metadata": {
    "slideshow": {
     "slide_type": "slide"
    }
   },
   "source": [
    "## Задача о разрешимости\n",
    "\n",
    "- Получили следующий вид исходной задачи\n",
    "\n",
    "$$\n",
    "\\begin{align*}\n",
    "& \\min_{(u, v)} 0 \\\\\n",
    "\\text{s.t. } & Qu = v\\\\& (u, v) \\in C \\times C^*\n",
    "\\end{align*}\n",
    "$$\n",
    "\n",
    "- Модифицируем эту задачу для применения ADMM\n",
    "\n",
    "$$\n",
    "\\begin{align*}\n",
    "& \\min_{(u, v)} I_{C \\times C^*}(u, v) + I_{Qu = v}(\\tilde{u}, \\tilde{v}) \\\\\n",
    "\\text{s.t. } & (u, v) = (\\tilde{u}, \\tilde{v})\n",
    "\\end{align*}\n",
    "$$\n",
    "\n",
    "- Тогда ADMM примет вид (проверьте!)\n",
    "    - $(\\tilde{u}_{k+1}, \\tilde{v}_{k+1}) = \\pi_{Qu = v} ((u_k + \\lambda_k, v_k + \\mu_k))$\n",
    "    - $u_{k+1} = \\pi_{C}(\\tilde{u}_{k+1} - \\lambda_k)$\n",
    "    - $v_{k+1} = \\pi_{C^*}(\\tilde{v}_{k+1} - \\mu_k)$\n",
    "    - $\\lambda_{k+1}= \\lambda_k - \\tilde{u}_{k+1} + u_{k+1}$\n",
    "    - $\\mu_{k+1}= \\mu_k - \\tilde{v}_{k+1} + v_{k+1}$"
   ]
  },
  {
   "cell_type": "markdown",
   "metadata": {
    "slideshow": {
     "slide_type": "slide"
    }
   },
   "source": [
    "## Исключение двойственных переменных\n",
    "\n",
    "- Используя свойства кососимметричной матрицы и разложение Моро, можно исключить двойственные переменные и привести исходный вид ADMM к следующей форме:\n",
    "    - $\\tilde{u}_{k+1} = (I + Q)^{-1} (u_k + v_k)$ - решение линейной системы\n",
    "    - $u_{k+1} = \\pi_C(\\tilde{u}_{k+1} - v_k)$ - проекция на конус\n",
    "    - $v_{k+1} = v_k - \\tilde{u}_{k+1} + u_{k+1}$\n",
    "    \n",
    "- Если исходный конус $K$ есть декартово произведение простых конусов, то вычисление проекции выполняется параллельно\n",
    "- Для решения линейной системы можно ипользовать прямой метод или итерационный, но предварительно необходимо упростить систему с помощью техники блочного исключения"
   ]
  },
  {
   "cell_type": "markdown",
   "metadata": {
    "slideshow": {
     "slide_type": "slide"
    }
   },
   "source": [
    "## Выводы\n",
    "\n",
    "- Метод внешних штрафов\n",
    "- Метод двойственного подъёма\n",
    "- Метод модифицированнй функции Лагранжа\n",
    "- ADMM\n"
   ]
  }
 ],
 "metadata": {
  "celltoolbar": "Slideshow",
  "kernelspec": {
   "display_name": "Python 3 (cvxpy)",
   "language": "python",
   "name": "cvxpy"
  },
  "language_info": {
   "codemirror_mode": {
    "name": "ipython",
    "version": 3
   },
   "file_extension": ".py",
   "mimetype": "text/x-python",
   "name": "python",
   "nbconvert_exporter": "python",
   "pygments_lexer": "ipython3",
   "version": "3.6.8"
  }
 },
 "nbformat": 4,
 "nbformat_minor": 2
}
